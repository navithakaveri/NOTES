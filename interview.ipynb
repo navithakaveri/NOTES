{
 "cells": [
  {
   "cell_type": "code",
   "execution_count": 1,
   "id": "41b79b93",
   "metadata": {},
   "outputs": [
    {
     "name": "stdout",
     "output_type": "stream",
     "text": [
      "enter data12\n",
      "the value is: 12\n"
     ]
    }
   ],
   "source": [
    "n=int(input(\"enter data\"))\n",
    "print(\"the value is:\",n)"
   ]
  },
  {
   "cell_type": "code",
   "execution_count": 2,
   "id": "dd50282b",
   "metadata": {},
   "outputs": [
    {
     "data": {
      "text/plain": [
       "int"
      ]
     },
     "execution_count": 2,
     "metadata": {},
     "output_type": "execute_result"
    }
   ],
   "source": [
    "type(n)"
   ]
  },
  {
   "cell_type": "code",
   "execution_count": 4,
   "id": "5444fe8b",
   "metadata": {},
   "outputs": [
    {
     "data": {
      "text/plain": [
       "int"
      ]
     },
     "execution_count": 4,
     "metadata": {},
     "output_type": "execute_result"
    }
   ],
   "source": [
    "n1=100\n",
    "type(n1)"
   ]
  },
  {
   "cell_type": "code",
   "execution_count": 5,
   "id": "81adf672",
   "metadata": {},
   "outputs": [
    {
     "data": {
      "text/plain": [
       "float"
      ]
     },
     "execution_count": 5,
     "metadata": {},
     "output_type": "execute_result"
    }
   ],
   "source": [
    "n2=12.90\n",
    "type(n2)"
   ]
  },
  {
   "cell_type": "code",
   "execution_count": 6,
   "id": "78559ff2",
   "metadata": {},
   "outputs": [
    {
     "data": {
      "text/plain": [
       "str"
      ]
     },
     "execution_count": 6,
     "metadata": {},
     "output_type": "execute_result"
    }
   ],
   "source": [
    "n3=\"hello world\"\n",
    "type(n3)"
   ]
  },
  {
   "cell_type": "code",
   "execution_count": 7,
   "id": "2b33afca",
   "metadata": {},
   "outputs": [
    {
     "data": {
      "text/plain": [
       "int"
      ]
     },
     "execution_count": 7,
     "metadata": {},
     "output_type": "execute_result"
    }
   ],
   "source": [
    "#variable\n",
    "n=100  #n is variable \n",
    "type(n)"
   ]
  },
  {
   "cell_type": "code",
   "execution_count": 9,
   "id": "126ac94e",
   "metadata": {},
   "outputs": [
    {
     "name": "stdout",
     "output_type": "stream",
     "text": [
      "<class 'str'>\n"
     ]
    }
   ],
   "source": [
    "#rule of variable name\n",
    "#start with _ or alp,cannot be start with numbers\n",
    "#variable name contains alp,num,_\n",
    "#var_name cannot be any python keyword\n",
    "_var=\"Hello all\"\n",
    "print(type(_var))\n"
   ]
  },
  {
   "cell_type": "code",
   "execution_count": 10,
   "id": "043a7295",
   "metadata": {},
   "outputs": [
    {
     "data": {
      "text/plain": [
       "str"
      ]
     },
     "execution_count": 10,
     "metadata": {},
     "output_type": "execute_result"
    }
   ],
   "source": [
    "type(_var)"
   ]
  },
  {
   "cell_type": "code",
   "execution_count": 11,
   "id": "6dd5e8be",
   "metadata": {},
   "outputs": [
    {
     "name": "stdout",
     "output_type": "stream",
     "text": [
      "<class 'int'>\n"
     ]
    }
   ],
   "source": [
    "#number int\n",
    "n=100\n",
    "print(type(n))"
   ]
  },
  {
   "cell_type": "code",
   "execution_count": 12,
   "id": "06ae9509",
   "metadata": {},
   "outputs": [
    {
     "name": "stdout",
     "output_type": "stream",
     "text": [
      "<class 'float'>\n"
     ]
    }
   ],
   "source": [
    "#number-float\n",
    "n=100.90\n",
    "print(type(n))"
   ]
  },
  {
   "cell_type": "code",
   "execution_count": 13,
   "id": "7abdc70d",
   "metadata": {},
   "outputs": [
    {
     "name": "stdout",
     "output_type": "stream",
     "text": [
      "<class 'str'>\n"
     ]
    }
   ],
   "source": [
    "#number-string\n",
    "n=\"100\"\n",
    "print(type(n))"
   ]
  },
  {
   "cell_type": "code",
   "execution_count": 19,
   "id": "f6aa8dfb",
   "metadata": {},
   "outputs": [
    {
     "name": "stdout",
     "output_type": "stream",
     "text": [
      "100\n",
      "100.0\n"
     ]
    }
   ],
   "source": [
    "#type casting-a one data type converted into another data type of int float,string or boolean is called as type casting or type conversion\n",
    "n=100\n",
    "print(n)\n",
    "type_ca=float(n)\n",
    "print(type_ca)\n"
   ]
  },
  {
   "cell_type": "code",
   "execution_count": 22,
   "id": "3bc0bd13",
   "metadata": {},
   "outputs": [
    {
     "name": "stdout",
     "output_type": "stream",
     "text": [
      "the most beautiful thing in the world is   \n"
     ]
    }
   ],
   "source": [
    "#string\n",
    "string=\"the most beautiful thing in the world is   \"\n",
    "print(string)\n"
   ]
  },
  {
   "cell_type": "code",
   "execution_count": 25,
   "id": "edddf1ea",
   "metadata": {},
   "outputs": [
    {
     "data": {
      "text/plain": [
       "9"
      ]
     },
     "execution_count": 25,
     "metadata": {},
     "output_type": "execute_result"
    }
   ],
   "source": [
    "#len\n",
    "\n",
    "string=\"hello all\"\n",
    "len(string)#including space"
   ]
  },
  {
   "cell_type": "code",
   "execution_count": 34,
   "id": "0867659c",
   "metadata": {},
   "outputs": [
    {
     "name": "stdout",
     "output_type": "stream",
     "text": [
      " navitha kaveri\n",
      " NAVITHA KAVERI\n",
      " navitha kaveri\n",
      "['', 'navitha', 'kaveri']\n",
      "navitha kaveri\n"
     ]
    }
   ],
   "source": [
    "#modularity strings\n",
    "#lower\n",
    "n=\" navitha kaveri\"\n",
    "print(n.lower())\n",
    "print(n.upper())\n",
    "print(n.capitalize())\n",
    "print(n.split(\" \"))#return the values into list \n",
    "print(n.strip())"
   ]
  },
  {
   "cell_type": "code",
   "execution_count": 38,
   "id": "70f8fefd",
   "metadata": {},
   "outputs": [
    {
     "name": "stdout",
     "output_type": "stream",
     "text": [
      "navitha naveen\n",
      "navithanaveen\n"
     ]
    }
   ],
   "source": [
    "#concat-combining 2 strings\n",
    "str1=\"navitha\"\n",
    "str2=\"naveen\"\n",
    "con=str1+\" \"+str2#type1 wiith spacing\n",
    "print(con)\n",
    "con1=str1+str2#type 2 without space\n",
    "print(con1)\n"
   ]
  },
  {
   "cell_type": "code",
   "execution_count": 39,
   "id": "34a2b6ca",
   "metadata": {},
   "outputs": [
    {
     "name": "stdout",
     "output_type": "stream",
     "text": [
      "this msg for\n"
     ]
    }
   ],
   "source": [
    "#slicking-return the range of the character of given string\n",
    "s=\"this msg for you\"\n",
    "print(s[0:12]) #startindex:end index:step\n"
   ]
  },
  {
   "cell_type": "code",
   "execution_count": 40,
   "id": "4bae13ec",
   "metadata": {},
   "outputs": [
    {
     "name": "stdout",
     "output_type": "stream",
     "text": [
      "ti s o o\n"
     ]
    }
   ],
   "source": [
    "print(s[0: :2]) # start index # end index till last # step 2 every 2nd values return"
   ]
  },
  {
   "cell_type": "code",
   "execution_count": 41,
   "id": "67625b73",
   "metadata": {},
   "outputs": [
    {
     "name": "stdout",
     "output_type": "stream",
     "text": [
      "tssf u\n"
     ]
    }
   ],
   "source": [
    "print(s[ : :3])"
   ]
  },
  {
   "cell_type": "code",
   "execution_count": 43,
   "id": "856380b4",
   "metadata": {},
   "outputs": [
    {
     "name": "stdout",
     "output_type": "stream",
     "text": [
      "yes\n"
     ]
    }
   ],
   "source": [
    "#check in and not in \n",
    "string=\"hello all this is navitha from chennai\"\n",
    "if \"navitha\" in string:\n",
    "    print(\"yes\")\n",
    "else:\n",
    "    print(\"no\")"
   ]
  },
  {
   "cell_type": "code",
   "execution_count": 44,
   "id": "804b3760",
   "metadata": {},
   "outputs": [
    {
     "name": "stdout",
     "output_type": "stream",
     "text": [
      "no\n"
     ]
    }
   ],
   "source": [
    "#check in and not in \n",
    "string=\"hello all this is navitha from chennai\"\n",
    "if \"navitha\" not in string:\n",
    "    print(\"yes\")\n",
    "else:\n",
    "    print(\"no\")"
   ]
  },
  {
   "cell_type": "code",
   "execution_count": 46,
   "id": "73830c9e",
   "metadata": {},
   "outputs": [
    {
     "name": "stdout",
     "output_type": "stream",
     "text": [
      "['tv', 'fridge', 'washing_machine', 'fan']\n"
     ]
    }
   ],
   "source": [
    "#data structure\n",
    "#built in data structures\n",
    "#list append\n",
    "list1=[\"tv\",\"fridge\",\"washing_machine\",\"fan\"]\n",
    "print(list1)\n"
   ]
  },
  {
   "cell_type": "code",
   "execution_count": 47,
   "id": "1c093f73",
   "metadata": {},
   "outputs": [],
   "source": [
    "list1.append(\"table\")"
   ]
  },
  {
   "cell_type": "code",
   "execution_count": 48,
   "id": "e023d307",
   "metadata": {},
   "outputs": [
    {
     "data": {
      "text/plain": [
       "['tv', 'fridge', 'washing_machine', 'fan', 'table']"
      ]
     },
     "execution_count": 48,
     "metadata": {},
     "output_type": "execute_result"
    }
   ],
   "source": [
    "list1"
   ]
  },
  {
   "cell_type": "code",
   "execution_count": 49,
   "id": "349856e5",
   "metadata": {},
   "outputs": [
    {
     "data": {
      "text/plain": [
       "'table'"
      ]
     },
     "execution_count": 49,
     "metadata": {},
     "output_type": "execute_result"
    }
   ],
   "source": [
    "#pop\n",
    "list1.pop()"
   ]
  },
  {
   "cell_type": "code",
   "execution_count": 50,
   "id": "61042871",
   "metadata": {},
   "outputs": [
    {
     "data": {
      "text/plain": [
       "['tv', 'fridge', 'washing_machine', 'fan']"
      ]
     },
     "execution_count": 50,
     "metadata": {},
     "output_type": "execute_result"
    }
   ],
   "source": [
    "list1"
   ]
  },
  {
   "cell_type": "code",
   "execution_count": 51,
   "id": "b1368761",
   "metadata": {},
   "outputs": [
    {
     "data": {
      "text/plain": [
       "'fridge'"
      ]
     },
     "execution_count": 51,
     "metadata": {},
     "output_type": "execute_result"
    }
   ],
   "source": [
    "list1.pop(1)"
   ]
  },
  {
   "cell_type": "code",
   "execution_count": 52,
   "id": "c6116075",
   "metadata": {},
   "outputs": [
    {
     "data": {
      "text/plain": [
       "['tv', 'washing_machine', 'fan']"
      ]
     },
     "execution_count": 52,
     "metadata": {},
     "output_type": "execute_result"
    }
   ],
   "source": [
    "list1"
   ]
  },
  {
   "cell_type": "code",
   "execution_count": 53,
   "id": "6ffbe0b1",
   "metadata": {},
   "outputs": [
    {
     "name": "stdout",
     "output_type": "stream",
     "text": [
      "1\n"
     ]
    }
   ],
   "source": [
    "list2=[100,200,1,23,23,10]\n",
    "print(min(list2))"
   ]
  },
  {
   "cell_type": "code",
   "execution_count": 54,
   "id": "66ba4eef",
   "metadata": {},
   "outputs": [
    {
     "name": "stdout",
     "output_type": "stream",
     "text": [
      "200\n"
     ]
    }
   ],
   "source": [
    "list2=[100,200,1,23,23,10]\n",
    "print(max(list2))"
   ]
  },
  {
   "cell_type": "code",
   "execution_count": 55,
   "id": "6081aaf1",
   "metadata": {},
   "outputs": [
    {
     "data": {
      "text/plain": [
       "[100, 200, 1, 23, 23, 10]"
      ]
     },
     "execution_count": 55,
     "metadata": {},
     "output_type": "execute_result"
    }
   ],
   "source": [
    "list2.copy()"
   ]
  },
  {
   "cell_type": "code",
   "execution_count": 56,
   "id": "d82e78df",
   "metadata": {},
   "outputs": [
    {
     "data": {
      "text/plain": [
       "2"
      ]
     },
     "execution_count": 56,
     "metadata": {},
     "output_type": "execute_result"
    }
   ],
   "source": [
    "list2.count(23)"
   ]
  },
  {
   "cell_type": "code",
   "execution_count": 58,
   "id": "025e2503",
   "metadata": {},
   "outputs": [
    {
     "data": {
      "text/plain": [
       "3"
      ]
     },
     "execution_count": 58,
     "metadata": {},
     "output_type": "execute_result"
    }
   ],
   "source": [
    "list2.index(23)"
   ]
  },
  {
   "cell_type": "code",
   "execution_count": 60,
   "id": "62ea27eb",
   "metadata": {},
   "outputs": [
    {
     "data": {
      "text/plain": [
       "[200, 100, 23, 23, 10, 1]"
      ]
     },
     "execution_count": 60,
     "metadata": {},
     "output_type": "execute_result"
    }
   ],
   "source": [
    "list2.sort(reverse=True)\n",
    "list2"
   ]
  },
  {
   "cell_type": "code",
   "execution_count": 61,
   "id": "8d4616e4",
   "metadata": {},
   "outputs": [
    {
     "data": {
      "text/plain": [
       "[1, 10, 23, 23, 100, 200]"
      ]
     },
     "execution_count": 61,
     "metadata": {},
     "output_type": "execute_result"
    }
   ],
   "source": [
    "list2.sort(reverse=False)\n",
    "list2"
   ]
  },
  {
   "cell_type": "code",
   "execution_count": 64,
   "id": "4767d4e2",
   "metadata": {},
   "outputs": [
    {
     "name": "stdout",
     "output_type": "stream",
     "text": [
      "[1, 8, 4, 6, 90]\n",
      "[90, 6, 4, 8, 1]\n"
     ]
    }
   ],
   "source": [
    "list3=[1,8,4,6,90]\n",
    "print(list3)\n",
    "list3.reverse()\n",
    "print(list3)"
   ]
  },
  {
   "cell_type": "code",
   "execution_count": 65,
   "id": "0d8bc1b5",
   "metadata": {},
   "outputs": [
    {
     "data": {
      "text/plain": [
       "1"
      ]
     },
     "execution_count": 65,
     "metadata": {},
     "output_type": "execute_result"
    }
   ],
   "source": [
    "#tuple\n",
    "t=(100,\"people\",\"290\",True)\n",
    "t.count(100)"
   ]
  },
  {
   "cell_type": "code",
   "execution_count": 66,
   "id": "c1ee0ddb",
   "metadata": {},
   "outputs": [
    {
     "data": {
      "text/plain": [
       "0"
      ]
     },
     "execution_count": 66,
     "metadata": {},
     "output_type": "execute_result"
    }
   ],
   "source": [
    "t.index(100)"
   ]
  },
  {
   "cell_type": "code",
   "execution_count": 67,
   "id": "c8fa7300",
   "metadata": {},
   "outputs": [
    {
     "data": {
      "text/plain": [
       "1"
      ]
     },
     "execution_count": 67,
     "metadata": {},
     "output_type": "execute_result"
    }
   ],
   "source": [
    "t.index(\"people\")"
   ]
  },
  {
   "cell_type": "code",
   "execution_count": 69,
   "id": "69ae5599",
   "metadata": {},
   "outputs": [],
   "source": [
    "#set\n",
    "se1={100,200,\"management\",\"team\",False}\n",
    "se2={100,2001,\"team\",True}"
   ]
  },
  {
   "cell_type": "code",
   "execution_count": 70,
   "id": "e5013373",
   "metadata": {},
   "outputs": [],
   "source": [
    "se2.add(\"collabration\")"
   ]
  },
  {
   "cell_type": "code",
   "execution_count": 71,
   "id": "796165b5",
   "metadata": {},
   "outputs": [
    {
     "data": {
      "text/plain": [
       "{100, 2001, True, 'collabration', 'team'}"
      ]
     },
     "execution_count": 71,
     "metadata": {},
     "output_type": "execute_result"
    }
   ],
   "source": [
    "se2"
   ]
  },
  {
   "cell_type": "code",
   "execution_count": 72,
   "id": "3a5bdd75",
   "metadata": {},
   "outputs": [
    {
     "data": {
      "text/plain": [
       "{100, 2001, True, 'collabration', 'team'}"
      ]
     },
     "execution_count": 72,
     "metadata": {},
     "output_type": "execute_result"
    }
   ],
   "source": [
    "se2.copy()"
   ]
  },
  {
   "cell_type": "code",
   "execution_count": 73,
   "id": "8378275c",
   "metadata": {},
   "outputs": [
    {
     "data": {
      "text/plain": [
       "{100, 200, 2001, False, True, 'collabration', 'management', 'team'}"
      ]
     },
     "execution_count": 73,
     "metadata": {},
     "output_type": "execute_result"
    }
   ],
   "source": [
    "se1.union(se2)"
   ]
  },
  {
   "cell_type": "code",
   "execution_count": 74,
   "id": "38599471",
   "metadata": {},
   "outputs": [
    {
     "data": {
      "text/plain": [
       "{100, 'team'}"
      ]
     },
     "execution_count": 74,
     "metadata": {},
     "output_type": "execute_result"
    }
   ],
   "source": [
    "se1.intersection(se2)"
   ]
  },
  {
   "cell_type": "code",
   "execution_count": 75,
   "id": "325f8f1a",
   "metadata": {},
   "outputs": [
    {
     "data": {
      "text/plain": [
       "{200, False, 'management'}"
      ]
     },
     "execution_count": 75,
     "metadata": {},
     "output_type": "execute_result"
    }
   ],
   "source": [
    "se1.difference(se2)"
   ]
  },
  {
   "cell_type": "code",
   "execution_count": 76,
   "id": "1134d808",
   "metadata": {},
   "outputs": [
    {
     "data": {
      "text/plain": [
       "{100, 200, False, 'management', 'team'}"
      ]
     },
     "execution_count": 76,
     "metadata": {},
     "output_type": "execute_result"
    }
   ],
   "source": [
    "se1"
   ]
  },
  {
   "cell_type": "code",
   "execution_count": 77,
   "id": "f8d8a2c4",
   "metadata": {},
   "outputs": [
    {
     "data": {
      "text/plain": [
       "{100, 2001, True, 'collabration', 'team'}"
      ]
     },
     "execution_count": 77,
     "metadata": {},
     "output_type": "execute_result"
    }
   ],
   "source": [
    "se2"
   ]
  },
  {
   "cell_type": "code",
   "execution_count": 79,
   "id": "504c49e6",
   "metadata": {},
   "outputs": [
    {
     "data": {
      "text/plain": [
       "False"
      ]
     },
     "execution_count": 79,
     "metadata": {},
     "output_type": "execute_result"
    }
   ],
   "source": [
    "se1.issubset(se2)"
   ]
  },
  {
   "cell_type": "code",
   "execution_count": 80,
   "id": "07b57924",
   "metadata": {},
   "outputs": [
    {
     "data": {
      "text/plain": [
       "False"
      ]
     },
     "execution_count": 80,
     "metadata": {},
     "output_type": "execute_result"
    }
   ],
   "source": [
    "se1.issuperset(se2)"
   ]
  },
  {
   "cell_type": "code",
   "execution_count": 81,
   "id": "d9d5a6a3",
   "metadata": {},
   "outputs": [
    {
     "data": {
      "text/plain": [
       "True"
      ]
     },
     "execution_count": 81,
     "metadata": {},
     "output_type": "execute_result"
    }
   ],
   "source": [
    "s1={1,2,3}\n",
    "s2={1,2,3,4}\n",
    "s1.issubset(s2)"
   ]
  },
  {
   "cell_type": "code",
   "execution_count": 82,
   "id": "e6bdecf5",
   "metadata": {},
   "outputs": [
    {
     "data": {
      "text/plain": [
       "False"
      ]
     },
     "execution_count": 82,
     "metadata": {},
     "output_type": "execute_result"
    }
   ],
   "source": [
    "s1={1,2,3}\n",
    "s2={1,2,3,4}\n",
    "s1.issuperset(s2)"
   ]
  },
  {
   "cell_type": "code",
   "execution_count": 84,
   "id": "596e1a77",
   "metadata": {},
   "outputs": [
    {
     "data": {
      "text/plain": [
       "1"
      ]
     },
     "execution_count": 84,
     "metadata": {},
     "output_type": "execute_result"
    }
   ],
   "source": [
    "\n",
    "s1.pop()"
   ]
  },
  {
   "cell_type": "code",
   "execution_count": 85,
   "id": "91124361",
   "metadata": {},
   "outputs": [
    {
     "data": {
      "text/plain": [
       "{2, 3}"
      ]
     },
     "execution_count": 85,
     "metadata": {},
     "output_type": "execute_result"
    }
   ],
   "source": [
    "s1"
   ]
  },
  {
   "cell_type": "code",
   "execution_count": 86,
   "id": "69deccd0",
   "metadata": {},
   "outputs": [
    {
     "data": {
      "text/plain": [
       "2"
      ]
     },
     "execution_count": 86,
     "metadata": {},
     "output_type": "execute_result"
    }
   ],
   "source": [
    "s1.pop()"
   ]
  },
  {
   "cell_type": "code",
   "execution_count": 89,
   "id": "64ba683f",
   "metadata": {},
   "outputs": [
    {
     "data": {
      "text/plain": [
       "{'name': 'navitha', 'age': 28}"
      ]
     },
     "execution_count": 89,
     "metadata": {},
     "output_type": "execute_result"
    }
   ],
   "source": [
    "#dictionary\n",
    "dic1={\"name\":\"navitha\",\"age\":28}\n",
    "dic1"
   ]
  },
  {
   "cell_type": "code",
   "execution_count": 92,
   "id": "156daf6c",
   "metadata": {},
   "outputs": [],
   "source": [
    "dic1.update({\"name\":\"naveen\",\"age\":28})"
   ]
  },
  {
   "cell_type": "code",
   "execution_count": 93,
   "id": "c4eaf856",
   "metadata": {},
   "outputs": [
    {
     "data": {
      "text/plain": [
       "{'name': 'naveen', 'age': 28}"
      ]
     },
     "execution_count": 93,
     "metadata": {},
     "output_type": "execute_result"
    }
   ],
   "source": [
    "dic1"
   ]
  },
  {
   "cell_type": "code",
   "execution_count": 94,
   "id": "9613fab5",
   "metadata": {},
   "outputs": [
    {
     "data": {
      "text/plain": [
       "<method 'items' of 'dict' objects>"
      ]
     },
     "execution_count": 94,
     "metadata": {},
     "output_type": "execute_result"
    }
   ],
   "source": [
    "dict.items"
   ]
  },
  {
   "cell_type": "code",
   "execution_count": 95,
   "id": "5163e023",
   "metadata": {},
   "outputs": [
    {
     "data": {
      "text/plain": [
       "dict_values(['naveen', 28])"
      ]
     },
     "execution_count": 95,
     "metadata": {},
     "output_type": "execute_result"
    }
   ],
   "source": [
    "dic1.values()"
   ]
  },
  {
   "cell_type": "code",
   "execution_count": 96,
   "id": "41d35308",
   "metadata": {},
   "outputs": [
    {
     "data": {
      "text/plain": [
       "dict_keys(['name', 'age'])"
      ]
     },
     "execution_count": 96,
     "metadata": {},
     "output_type": "execute_result"
    }
   ],
   "source": [
    "dic1.keys()"
   ]
  },
  {
   "cell_type": "code",
   "execution_count": 97,
   "id": "2e8e9ae1",
   "metadata": {},
   "outputs": [
    {
     "data": {
      "text/plain": [
       "'naveen'"
      ]
     },
     "execution_count": 97,
     "metadata": {},
     "output_type": "execute_result"
    }
   ],
   "source": [
    "dic1.get(\"name\")"
   ]
  },
  {
   "cell_type": "code",
   "execution_count": 98,
   "id": "df141017",
   "metadata": {},
   "outputs": [
    {
     "name": "stdout",
     "output_type": "stream",
     "text": [
      "success\n"
     ]
    }
   ],
   "source": [
    "#conditional statement\n",
    "a=12\n",
    "if a>10:\n",
    "    print(\"success\")"
   ]
  },
  {
   "cell_type": "code",
   "execution_count": 100,
   "id": "3ecf9fad",
   "metadata": {},
   "outputs": [
    {
     "name": "stdout",
     "output_type": "stream",
     "text": [
      "unsuccess\n"
     ]
    }
   ],
   "source": [
    "a=9\n",
    "if a>10:\n",
    "    print(\"success\")\n",
    "else:\n",
    "    print(\"unsuccess\")"
   ]
  },
  {
   "cell_type": "code",
   "execution_count": 101,
   "id": "72e01038",
   "metadata": {},
   "outputs": [
    {
     "name": "stdout",
     "output_type": "stream",
     "text": [
      "enter the value100\n",
      "not ok\n"
     ]
    }
   ],
   "source": [
    "a=int(input(\"enter the value\"))\n",
    "if a==0:\n",
    "    print(\"ok\")\n",
    "else:\n",
    "    print(\"not ok\")"
   ]
  },
  {
   "cell_type": "code",
   "execution_count": 103,
   "id": "75be429f",
   "metadata": {},
   "outputs": [
    {
     "name": "stdout",
     "output_type": "stream",
     "text": [
      "enter the value7\n",
      "odd\n"
     ]
    }
   ],
   "source": [
    "a=int(input(\"enter the value\"))\n",
    "if a%2==0:\n",
    "    print(\"even\")\n",
    "else:\n",
    "    print(\"odd\")"
   ]
  },
  {
   "cell_type": "code",
   "execution_count": 106,
   "id": "57ff51c2",
   "metadata": {},
   "outputs": [
    {
     "name": "stdout",
     "output_type": "stream",
     "text": [
      "enter45\n",
      "c grade\n"
     ]
    }
   ],
   "source": [
    "a=int(input(\"enter\"))\n",
    "if a<100 and a>50:\n",
    "    print(\"a grade\")\n",
    "elif a>30 and a<49:\n",
    "    print(\"c grade\")\n",
    "else:\n",
    "    print(\"fail\")"
   ]
  },
  {
   "cell_type": "code",
   "execution_count": 107,
   "id": "75804796",
   "metadata": {},
   "outputs": [
    {
     "name": "stdout",
     "output_type": "stream",
     "text": [
      "0\n",
      "1\n",
      "2\n",
      "3\n",
      "4\n",
      "5\n"
     ]
    }
   ],
   "source": [
    "#loops\n",
    "\n",
    "for i in range(6):\n",
    "    print(i)"
   ]
  },
  {
   "cell_type": "code",
   "execution_count": 108,
   "id": "dbd9a17b",
   "metadata": {},
   "outputs": [
    {
     "name": "stdout",
     "output_type": "stream",
     "text": [
      "0\n",
      "2\n",
      "4\n",
      "6\n",
      "8\n"
     ]
    }
   ],
   "source": [
    "for i in range(0,10,2):\n",
    "    print(i)"
   ]
  },
  {
   "cell_type": "code",
   "execution_count": 111,
   "id": "1738bd39",
   "metadata": {},
   "outputs": [
    {
     "name": "stdout",
     "output_type": "stream",
     "text": [
      "a\n",
      "n\n",
      "b\n",
      "d\n",
      "e\n"
     ]
    }
   ],
   "source": [
    "list1=[\"a\",\"n\",\"b\",\"d\",\"e\"]\n",
    "for i in list1:\n",
    "    print(i)"
   ]
  },
  {
   "cell_type": "code",
   "execution_count": 113,
   "id": "5569cc46",
   "metadata": {},
   "outputs": [
    {
     "name": "stdout",
     "output_type": "stream",
     "text": [
      "a\n",
      "n\n",
      "b\n",
      "d\n",
      "e\n"
     ]
    }
   ],
   "source": [
    "list1=[\"a\",\"n\",\"b\",\"d\",\"e\"]\n",
    "for i in list1: print(i)\n",
    "   "
   ]
  },
  {
   "cell_type": "code",
   "execution_count": 114,
   "id": "addfa398",
   "metadata": {},
   "outputs": [
    {
     "name": "stdout",
     "output_type": "stream",
     "text": [
      "4\n",
      "5\n"
     ]
    }
   ],
   "source": [
    "a=4\n",
    "while a<6:\n",
    "    print(a)\n",
    "    a=a+1"
   ]
  },
  {
   "cell_type": "code",
   "execution_count": 1,
   "id": "688e17a7",
   "metadata": {},
   "outputs": [
    {
     "name": "stdout",
     "output_type": "stream",
     "text": [
      "enter100\n",
      "enter100\n",
      "10000\n"
     ]
    }
   ],
   "source": [
    "#function\n",
    "def atte(a,b):\n",
    "    re=a*b\n",
    "    return re\n",
    "   \n",
    "\n",
    "\n",
    "\n",
    "aa=int(input(\"enter\"))\n",
    "bb=int(input(\"enter\"))\n",
    "cat=atte(aa,bb)\n",
    "print(cat)\n"
   ]
  },
  {
   "cell_type": "code",
   "execution_count": 2,
   "id": "f5156e05",
   "metadata": {},
   "outputs": [
    {
     "name": "stdout",
     "output_type": "stream",
     "text": [
      "0\n",
      "1\n",
      "2\n",
      "3\n",
      "4\n"
     ]
    }
   ],
   "source": [
    "for i in range(10):\n",
    "    if i==5:\n",
    "        break\n",
    "    print(i)"
   ]
  },
  {
   "cell_type": "code",
   "execution_count": 3,
   "id": "7af48e61",
   "metadata": {},
   "outputs": [
    {
     "name": "stdout",
     "output_type": "stream",
     "text": [
      "the new list is: [1, 2, 3]\n"
     ]
    }
   ],
   "source": [
    "list1=[1,2,3]\n",
    "ep=[list1[i] for i in range(0,len(list1))]\n",
    "print(\"the new list is:\",ep)"
   ]
  },
  {
   "cell_type": "code",
   "execution_count": 11,
   "id": "ddf16cf7",
   "metadata": {},
   "outputs": [
    {
     "name": "stderr",
     "output_type": "stream",
     "text": [
      "C:\\Users\\navit\\AppData\\Local\\Temp\\ipykernel_26220\\2007334746.py:1: DtypeWarning: Columns (9) have mixed types. Specify dtype option on import or set low_memory=False.\n",
      "  file=pd.read_csv(r\"C:\\Users\\navit\\Downloads\\singapore.csv\")\n"
     ]
    },
    {
     "data": {
      "text/html": [
       "<div>\n",
       "<style scoped>\n",
       "    .dataframe tbody tr th:only-of-type {\n",
       "        vertical-align: middle;\n",
       "    }\n",
       "\n",
       "    .dataframe tbody tr th {\n",
       "        vertical-align: top;\n",
       "    }\n",
       "\n",
       "    .dataframe thead th {\n",
       "        text-align: right;\n",
       "    }\n",
       "</style>\n",
       "<table border=\"1\" class=\"dataframe\">\n",
       "  <thead>\n",
       "    <tr style=\"text-align: right;\">\n",
       "      <th></th>\n",
       "      <th>month</th>\n",
       "      <th>town</th>\n",
       "      <th>flat_type</th>\n",
       "      <th>block</th>\n",
       "      <th>street_name</th>\n",
       "      <th>storey_range</th>\n",
       "      <th>floor_area_sqm</th>\n",
       "      <th>flat_model</th>\n",
       "      <th>lease_commence_date</th>\n",
       "      <th>remaining</th>\n",
       "      <th>resale_price</th>\n",
       "    </tr>\n",
       "  </thead>\n",
       "  <tbody>\n",
       "    <tr>\n",
       "      <th>0</th>\n",
       "      <td>1990-01</td>\n",
       "      <td>ANG MO KIO</td>\n",
       "      <td>1 ROOM</td>\n",
       "      <td>309</td>\n",
       "      <td>ANG MO KIO AVE 1</td>\n",
       "      <td>10 TO 12</td>\n",
       "      <td>31.0</td>\n",
       "      <td>IMPROVED</td>\n",
       "      <td>1977</td>\n",
       "      <td>NaN</td>\n",
       "      <td>9000.0</td>\n",
       "    </tr>\n",
       "    <tr>\n",
       "      <th>1</th>\n",
       "      <td>1990-01</td>\n",
       "      <td>ANG MO KIO</td>\n",
       "      <td>1 ROOM</td>\n",
       "      <td>309</td>\n",
       "      <td>ANG MO KIO AVE 1</td>\n",
       "      <td>04 TO 06</td>\n",
       "      <td>31.0</td>\n",
       "      <td>IMPROVED</td>\n",
       "      <td>1977</td>\n",
       "      <td>NaN</td>\n",
       "      <td>6000.0</td>\n",
       "    </tr>\n",
       "    <tr>\n",
       "      <th>2</th>\n",
       "      <td>1990-01</td>\n",
       "      <td>ANG MO KIO</td>\n",
       "      <td>1 ROOM</td>\n",
       "      <td>309</td>\n",
       "      <td>ANG MO KIO AVE 1</td>\n",
       "      <td>10 TO 12</td>\n",
       "      <td>31.0</td>\n",
       "      <td>IMPROVED</td>\n",
       "      <td>1977</td>\n",
       "      <td>NaN</td>\n",
       "      <td>8000.0</td>\n",
       "    </tr>\n",
       "    <tr>\n",
       "      <th>3</th>\n",
       "      <td>1990-01</td>\n",
       "      <td>ANG MO KIO</td>\n",
       "      <td>1 ROOM</td>\n",
       "      <td>309</td>\n",
       "      <td>ANG MO KIO AVE 1</td>\n",
       "      <td>07 TO 09</td>\n",
       "      <td>31.0</td>\n",
       "      <td>IMPROVED</td>\n",
       "      <td>1977</td>\n",
       "      <td>NaN</td>\n",
       "      <td>6000.0</td>\n",
       "    </tr>\n",
       "    <tr>\n",
       "      <th>4</th>\n",
       "      <td>1990-01</td>\n",
       "      <td>ANG MO KIO</td>\n",
       "      <td>3 ROOM</td>\n",
       "      <td>216</td>\n",
       "      <td>ANG MO KIO AVE 1</td>\n",
       "      <td>04 TO 06</td>\n",
       "      <td>73.0</td>\n",
       "      <td>NEW GENERATION</td>\n",
       "      <td>1976</td>\n",
       "      <td>NaN</td>\n",
       "      <td>47200.0</td>\n",
       "    </tr>\n",
       "    <tr>\n",
       "      <th>...</th>\n",
       "      <td>...</td>\n",
       "      <td>...</td>\n",
       "      <td>...</td>\n",
       "      <td>...</td>\n",
       "      <td>...</td>\n",
       "      <td>...</td>\n",
       "      <td>...</td>\n",
       "      <td>...</td>\n",
       "      <td>...</td>\n",
       "      <td>...</td>\n",
       "      <td>...</td>\n",
       "    </tr>\n",
       "    <tr>\n",
       "      <th>925884</th>\n",
       "      <td>2024-04</td>\n",
       "      <td>YISHUN</td>\n",
       "      <td>EXECUTIVE</td>\n",
       "      <td>826</td>\n",
       "      <td>YISHUN ST 81</td>\n",
       "      <td>04 TO 06</td>\n",
       "      <td>146.0</td>\n",
       "      <td>Maisonette</td>\n",
       "      <td>1988</td>\n",
       "      <td>62 years 10 months</td>\n",
       "      <td>900000.0</td>\n",
       "    </tr>\n",
       "    <tr>\n",
       "      <th>925885</th>\n",
       "      <td>2024-04</td>\n",
       "      <td>YISHUN</td>\n",
       "      <td>EXECUTIVE</td>\n",
       "      <td>836</td>\n",
       "      <td>YISHUN ST 81</td>\n",
       "      <td>04 TO 06</td>\n",
       "      <td>142.0</td>\n",
       "      <td>Apartment</td>\n",
       "      <td>1988</td>\n",
       "      <td>62 years 10 months</td>\n",
       "      <td>805000.0</td>\n",
       "    </tr>\n",
       "    <tr>\n",
       "      <th>925886</th>\n",
       "      <td>2024-05</td>\n",
       "      <td>YISHUN</td>\n",
       "      <td>EXECUTIVE</td>\n",
       "      <td>834</td>\n",
       "      <td>YISHUN ST 81</td>\n",
       "      <td>04 TO 06</td>\n",
       "      <td>154.0</td>\n",
       "      <td>Maisonette</td>\n",
       "      <td>1988</td>\n",
       "      <td>62 years 09 months</td>\n",
       "      <td>948000.0</td>\n",
       "    </tr>\n",
       "    <tr>\n",
       "      <th>925887</th>\n",
       "      <td>2024-02</td>\n",
       "      <td>YISHUN</td>\n",
       "      <td>MULTI-GENERATION</td>\n",
       "      <td>666</td>\n",
       "      <td>YISHUN AVE 4</td>\n",
       "      <td>04 TO 06</td>\n",
       "      <td>164.0</td>\n",
       "      <td>Multi Generation</td>\n",
       "      <td>1987</td>\n",
       "      <td>62 years 11 months</td>\n",
       "      <td>998000.0</td>\n",
       "    </tr>\n",
       "    <tr>\n",
       "      <th>925888</th>\n",
       "      <td>2024-03</td>\n",
       "      <td>YISHUN</td>\n",
       "      <td>MULTI-GENERATION</td>\n",
       "      <td>666</td>\n",
       "      <td>YISHUN AVE 4</td>\n",
       "      <td>10 TO 12</td>\n",
       "      <td>164.0</td>\n",
       "      <td>Multi Generation</td>\n",
       "      <td>1987</td>\n",
       "      <td>62 years 09 months</td>\n",
       "      <td>1200000.0</td>\n",
       "    </tr>\n",
       "  </tbody>\n",
       "</table>\n",
       "<p>925889 rows × 11 columns</p>\n",
       "</div>"
      ],
      "text/plain": [
       "          month        town         flat_type block       street_name  \\\n",
       "0       1990-01  ANG MO KIO            1 ROOM   309  ANG MO KIO AVE 1   \n",
       "1       1990-01  ANG MO KIO            1 ROOM   309  ANG MO KIO AVE 1   \n",
       "2       1990-01  ANG MO KIO            1 ROOM   309  ANG MO KIO AVE 1   \n",
       "3       1990-01  ANG MO KIO            1 ROOM   309  ANG MO KIO AVE 1   \n",
       "4       1990-01  ANG MO KIO            3 ROOM   216  ANG MO KIO AVE 1   \n",
       "...         ...         ...               ...   ...               ...   \n",
       "925884  2024-04      YISHUN         EXECUTIVE   826      YISHUN ST 81   \n",
       "925885  2024-04      YISHUN         EXECUTIVE   836      YISHUN ST 81   \n",
       "925886  2024-05      YISHUN         EXECUTIVE   834      YISHUN ST 81   \n",
       "925887  2024-02      YISHUN  MULTI-GENERATION   666      YISHUN AVE 4   \n",
       "925888  2024-03      YISHUN  MULTI-GENERATION   666      YISHUN AVE 4   \n",
       "\n",
       "       storey_range  floor_area_sqm        flat_model  lease_commence_date  \\\n",
       "0          10 TO 12            31.0          IMPROVED                 1977   \n",
       "1          04 TO 06            31.0          IMPROVED                 1977   \n",
       "2          10 TO 12            31.0          IMPROVED                 1977   \n",
       "3          07 TO 09            31.0          IMPROVED                 1977   \n",
       "4          04 TO 06            73.0    NEW GENERATION                 1976   \n",
       "...             ...             ...               ...                  ...   \n",
       "925884     04 TO 06           146.0        Maisonette                 1988   \n",
       "925885     04 TO 06           142.0         Apartment                 1988   \n",
       "925886     04 TO 06           154.0        Maisonette                 1988   \n",
       "925887     04 TO 06           164.0  Multi Generation                 1987   \n",
       "925888     10 TO 12           164.0  Multi Generation                 1987   \n",
       "\n",
       "                 remaining  resale_price  \n",
       "0                      NaN        9000.0  \n",
       "1                      NaN        6000.0  \n",
       "2                      NaN        8000.0  \n",
       "3                      NaN        6000.0  \n",
       "4                      NaN       47200.0  \n",
       "...                    ...           ...  \n",
       "925884  62 years 10 months      900000.0  \n",
       "925885  62 years 10 months      805000.0  \n",
       "925886  62 years 09 months      948000.0  \n",
       "925887  62 years 11 months      998000.0  \n",
       "925888  62 years 09 months     1200000.0  \n",
       "\n",
       "[925889 rows x 11 columns]"
      ]
     },
     "execution_count": 11,
     "metadata": {},
     "output_type": "execute_result"
    }
   ],
   "source": [
    "file=pd.read_csv(r\"C:\\Users\\navit\\Downloads\\singapore.csv\")\n",
    "import pandas as pd\n",
    "data=pd.DataFrame(file)\n",
    "data\n"
   ]
  },
  {
   "cell_type": "code",
   "execution_count": 23,
   "id": "67bbba6c",
   "metadata": {},
   "outputs": [
    {
     "name": "stdout",
     "output_type": "stream",
     "text": [
      "('We require the share amount to be provided before the marriage',)\n",
      "(None,)\n",
      "('For critical illnesses, we request medical leave without it being deducted from our regular leave balance',)\n",
      "('Employees feel disheartened if medical leave for critical illnesses is deducted from their regular leave balance, forcing them to endure a loss of pay (LOP',)\n",
      "(None,)\n",
      "('During permission hours, cab drop services need to be extended to Periyapalaiyam and Uthukottai.',)\n",
      "(None,)\n",
      "('We request an increase in marriage leave from 10 days to 15 days',)\n",
      "(None,)\n",
      "('We request the provision of crèche facilities for employees working in the C shift to ensure proper childcare support during late hours',)\n",
      "(None,)\n",
      "('There is an issue with mold lifting and inadequate ventilation that needs to be addressed for a healthier and safer environment.',)\n",
      "(None,)\n",
      "('Employees are unhappy with the reduction in their RL (Regular Leave) balance and have expressed concerns about the change',)\n"
     ]
    }
   ],
   "source": [
    "from openpyxl import load_workbook\n",
    "\n",
    "# Open the Excel file\n",
    "workbook = load_workbook(\"book1.xlsx\")\n",
    "\n",
    "# Access a sheet\n",
    "sheet = workbook.active  # Get the active sheet\n",
    "\n",
    "# Read data\n",
    "for row in sheet.iter_rows(values_only=True):\n",
    "    print(row)\n"
   ]
  },
  {
   "cell_type": "code",
   "execution_count": 22,
   "id": "0be0d171",
   "metadata": {},
   "outputs": [
    {
     "ename": "UnicodeDecodeError",
     "evalue": "'charmap' codec can't decode byte 0x9d in position 16: character maps to <undefined>",
     "output_type": "error",
     "traceback": [
      "\u001b[1;31m---------------------------------------------------------------------------\u001b[0m",
      "\u001b[1;31mUnicodeDecodeError\u001b[0m                        Traceback (most recent call last)",
      "Cell \u001b[1;32mIn[22], line 3\u001b[0m\n\u001b[0;32m      1\u001b[0m \u001b[38;5;28;01mfrom\u001b[39;00m \u001b[38;5;21;01mopenpyxl\u001b[39;00m \u001b[38;5;28;01mimport\u001b[39;00m load_workbook\n\u001b[0;32m      2\u001b[0m \u001b[38;5;28;01mwith\u001b[39;00m \u001b[38;5;28mopen\u001b[39m(\u001b[38;5;124m\"\u001b[39m\u001b[38;5;124mbook1.xlsx\u001b[39m\u001b[38;5;124m\"\u001b[39m,\u001b[38;5;124m\"\u001b[39m\u001b[38;5;124mr\u001b[39m\u001b[38;5;124m\"\u001b[39m) \u001b[38;5;28;01mas\u001b[39;00m file:\n\u001b[1;32m----> 3\u001b[0m     content\u001b[38;5;241m=\u001b[39mfile\u001b[38;5;241m.\u001b[39mread()\n\u001b[0;32m      4\u001b[0m     \u001b[38;5;28mprint\u001b[39m(content)\n",
      "File \u001b[1;32mC:\\ProgramData\\anaconda3\\Lib\\encodings\\cp1252.py:23\u001b[0m, in \u001b[0;36mIncrementalDecoder.decode\u001b[1;34m(self, input, final)\u001b[0m\n\u001b[0;32m     22\u001b[0m \u001b[38;5;28;01mdef\u001b[39;00m \u001b[38;5;21mdecode\u001b[39m(\u001b[38;5;28mself\u001b[39m, \u001b[38;5;28minput\u001b[39m, final\u001b[38;5;241m=\u001b[39m\u001b[38;5;28;01mFalse\u001b[39;00m):\n\u001b[1;32m---> 23\u001b[0m     \u001b[38;5;28;01mreturn\u001b[39;00m codecs\u001b[38;5;241m.\u001b[39mcharmap_decode(\u001b[38;5;28minput\u001b[39m,\u001b[38;5;28mself\u001b[39m\u001b[38;5;241m.\u001b[39merrors,decoding_table)[\u001b[38;5;241m0\u001b[39m]\n",
      "\u001b[1;31mUnicodeDecodeError\u001b[0m: 'charmap' codec can't decode byte 0x9d in position 16: character maps to <undefined>"
     ]
    }
   ],
   "source": [
    "from openpyxl import load_workbook\n",
    "with open(\"book1.xlsx\",\"r\") as file:\n",
    "    content=file.read()\n",
    "    print(content)"
   ]
  },
  {
   "cell_type": "code",
   "execution_count": 24,
   "id": "07843a00",
   "metadata": {},
   "outputs": [
    {
     "name": "stdout",
     "output_type": "stream",
     "text": [
      "date,grade,amount\n",
      "08-01-2025,a,100\n",
      "09-01-2025,b,101\n",
      "10-01-2025,c,102\n",
      "11-01-2025,d,103\n",
      "12-01-2025,e,104\n",
      "13-01-2025,f,105\n",
      "\n"
     ]
    }
   ],
   "source": [
    "\n",
    "with open(\"Book1.csv\",\"r\") as file:\n",
    "    content=file.read()\n",
    "    print(content)"
   ]
  },
  {
   "cell_type": "code",
   "execution_count": 29,
   "id": "16cb2bdb",
   "metadata": {},
   "outputs": [],
   "source": [
    "with open(\"Book1.csv\",\"w\") as file:\n",
    "    file.write(\"hello\")\n",
    "    "
   ]
  },
  {
   "cell_type": "code",
   "execution_count": 30,
   "id": "b4b53607",
   "metadata": {},
   "outputs": [
    {
     "name": "stdout",
     "output_type": "stream",
     "text": [
      "hello\n"
     ]
    }
   ],
   "source": [
    "\n",
    "with open(\"Book1.csv\",\"r\") as file:\n",
    "    content=file.read()\n",
    "    print(content)"
   ]
  },
  {
   "cell_type": "code",
   "execution_count": 31,
   "id": "8b240800",
   "metadata": {},
   "outputs": [
    {
     "data": {
      "text/html": [
       "<div>\n",
       "<style scoped>\n",
       "    .dataframe tbody tr th:only-of-type {\n",
       "        vertical-align: middle;\n",
       "    }\n",
       "\n",
       "    .dataframe tbody tr th {\n",
       "        vertical-align: top;\n",
       "    }\n",
       "\n",
       "    .dataframe thead th {\n",
       "        text-align: right;\n",
       "    }\n",
       "</style>\n",
       "<table border=\"1\" class=\"dataframe\">\n",
       "  <thead>\n",
       "    <tr style=\"text-align: right;\">\n",
       "      <th></th>\n",
       "      <th>hello</th>\n",
       "    </tr>\n",
       "  </thead>\n",
       "  <tbody>\n",
       "  </tbody>\n",
       "</table>\n",
       "</div>"
      ],
      "text/plain": [
       "Empty DataFrame\n",
       "Columns: [hello]\n",
       "Index: []"
      ]
     },
     "execution_count": 31,
     "metadata": {},
     "output_type": "execute_result"
    }
   ],
   "source": [
    "import pandas as pd\n",
    "dat=pd.read_csv(r\"Book1.csv\")\n",
    "dat"
   ]
  },
  {
   "cell_type": "code",
   "execution_count": 33,
   "id": "48579b80",
   "metadata": {},
   "outputs": [],
   "source": [
    "with open(\"Book1.csv\",\"a\") as file:\n",
    "    file.write(\"all\")"
   ]
  },
  {
   "cell_type": "code",
   "execution_count": 34,
   "id": "f6712125",
   "metadata": {},
   "outputs": [
    {
     "data": {
      "text/html": [
       "<div>\n",
       "<style scoped>\n",
       "    .dataframe tbody tr th:only-of-type {\n",
       "        vertical-align: middle;\n",
       "    }\n",
       "\n",
       "    .dataframe tbody tr th {\n",
       "        vertical-align: top;\n",
       "    }\n",
       "\n",
       "    .dataframe thead th {\n",
       "        text-align: right;\n",
       "    }\n",
       "</style>\n",
       "<table border=\"1\" class=\"dataframe\">\n",
       "  <thead>\n",
       "    <tr style=\"text-align: right;\">\n",
       "      <th></th>\n",
       "      <th>helloall</th>\n",
       "    </tr>\n",
       "  </thead>\n",
       "  <tbody>\n",
       "  </tbody>\n",
       "</table>\n",
       "</div>"
      ],
      "text/plain": [
       "Empty DataFrame\n",
       "Columns: [helloall]\n",
       "Index: []"
      ]
     },
     "execution_count": 34,
     "metadata": {},
     "output_type": "execute_result"
    }
   ],
   "source": [
    "import pandas as pd\n",
    "dat=pd.read_csv(r\"Book1.csv\")\n",
    "dat"
   ]
  },
  {
   "cell_type": "code",
   "execution_count": 38,
   "id": "278d7271",
   "metadata": {},
   "outputs": [
    {
     "name": "stdout",
     "output_type": "stream",
     "text": [
      "1000000\n"
     ]
    }
   ],
   "source": [
    "#lamda\n",
    "vari=lambda x:x**3\n",
    "x=100\n",
    "print(vari(x))"
   ]
  },
  {
   "cell_type": "code",
   "execution_count": 41,
   "id": "16e3bc5e",
   "metadata": {},
   "outputs": [],
   "source": [
    "sam=[1,2,3,4,5,6]\n",
    "rest=list(filter(lambda x:x%2==0,sam))"
   ]
  },
  {
   "cell_type": "code",
   "execution_count": 42,
   "id": "74c466bb",
   "metadata": {},
   "outputs": [
    {
     "data": {
      "text/plain": [
       "[2, 4, 6]"
      ]
     },
     "execution_count": 42,
     "metadata": {},
     "output_type": "execute_result"
    }
   ],
   "source": [
    "rest"
   ]
  },
  {
   "cell_type": "code",
   "execution_count": 43,
   "id": "63cdd5b5",
   "metadata": {},
   "outputs": [
    {
     "name": "stdout",
     "output_type": "stream",
     "text": [
      "0      hello\n",
      "1          1\n",
      "2          3\n",
      "3    navitha\n",
      "4        100\n",
      "5       True\n",
      "dtype: object\n"
     ]
    }
   ],
   "source": [
    "#pandas\n",
    "import pandas as pd\n",
    "import numpy as np\n",
    "series=np.array(['hello',1,3,'navitha','100',True])\n",
    "s=pd.Series(series)\n",
    "print(s)\n"
   ]
  },
  {
   "cell_type": "code",
   "execution_count": 46,
   "id": "3d48dc89",
   "metadata": {},
   "outputs": [
    {
     "ename": "ValueError",
     "evalue": "If using all scalar values, you must pass an index",
     "output_type": "error",
     "traceback": [
      "\u001b[1;31m---------------------------------------------------------------------------\u001b[0m",
      "\u001b[1;31mValueError\u001b[0m                                Traceback (most recent call last)",
      "Cell \u001b[1;32mIn[46], line 2\u001b[0m\n\u001b[0;32m      1\u001b[0m \u001b[38;5;66;03m#dataframe\u001b[39;00m\n\u001b[1;32m----> 2\u001b[0m data\u001b[38;5;241m=\u001b[39mpd\u001b[38;5;241m.\u001b[39mDataFrame({\u001b[38;5;124m\"\u001b[39m\u001b[38;5;124mname\u001b[39m\u001b[38;5;124m\"\u001b[39m:\u001b[38;5;124m\"\u001b[39m\u001b[38;5;124mnavitha\u001b[39m\u001b[38;5;124m\"\u001b[39m,\u001b[38;5;124m\"\u001b[39m\u001b[38;5;124mage\u001b[39m\u001b[38;5;124m\"\u001b[39m:\u001b[38;5;241m29\u001b[39m,\u001b[38;5;124m\"\u001b[39m\u001b[38;5;124mgender\u001b[39m\u001b[38;5;124m\"\u001b[39m:\u001b[38;5;124m\"\u001b[39m\u001b[38;5;124mFemale\u001b[39m\u001b[38;5;124m\"\u001b[39m})\n\u001b[0;32m      3\u001b[0m data\n",
      "File \u001b[1;32mC:\\ProgramData\\anaconda3\\Lib\\site-packages\\pandas\\core\\frame.py:709\u001b[0m, in \u001b[0;36mDataFrame.__init__\u001b[1;34m(self, data, index, columns, dtype, copy)\u001b[0m\n\u001b[0;32m    703\u001b[0m     mgr \u001b[38;5;241m=\u001b[39m \u001b[38;5;28mself\u001b[39m\u001b[38;5;241m.\u001b[39m_init_mgr(\n\u001b[0;32m    704\u001b[0m         data, axes\u001b[38;5;241m=\u001b[39m{\u001b[38;5;124m\"\u001b[39m\u001b[38;5;124mindex\u001b[39m\u001b[38;5;124m\"\u001b[39m: index, \u001b[38;5;124m\"\u001b[39m\u001b[38;5;124mcolumns\u001b[39m\u001b[38;5;124m\"\u001b[39m: columns}, dtype\u001b[38;5;241m=\u001b[39mdtype, copy\u001b[38;5;241m=\u001b[39mcopy\n\u001b[0;32m    705\u001b[0m     )\n\u001b[0;32m    707\u001b[0m \u001b[38;5;28;01melif\u001b[39;00m \u001b[38;5;28misinstance\u001b[39m(data, \u001b[38;5;28mdict\u001b[39m):\n\u001b[0;32m    708\u001b[0m     \u001b[38;5;66;03m# GH#38939 de facto copy defaults to False only in non-dict cases\u001b[39;00m\n\u001b[1;32m--> 709\u001b[0m     mgr \u001b[38;5;241m=\u001b[39m dict_to_mgr(data, index, columns, dtype\u001b[38;5;241m=\u001b[39mdtype, copy\u001b[38;5;241m=\u001b[39mcopy, typ\u001b[38;5;241m=\u001b[39mmanager)\n\u001b[0;32m    710\u001b[0m \u001b[38;5;28;01melif\u001b[39;00m \u001b[38;5;28misinstance\u001b[39m(data, ma\u001b[38;5;241m.\u001b[39mMaskedArray):\n\u001b[0;32m    711\u001b[0m     \u001b[38;5;28;01mfrom\u001b[39;00m \u001b[38;5;21;01mnumpy\u001b[39;00m\u001b[38;5;21;01m.\u001b[39;00m\u001b[38;5;21;01mma\u001b[39;00m \u001b[38;5;28;01mimport\u001b[39;00m mrecords\n",
      "File \u001b[1;32mC:\\ProgramData\\anaconda3\\Lib\\site-packages\\pandas\\core\\internals\\construction.py:481\u001b[0m, in \u001b[0;36mdict_to_mgr\u001b[1;34m(data, index, columns, dtype, typ, copy)\u001b[0m\n\u001b[0;32m    477\u001b[0m     \u001b[38;5;28;01melse\u001b[39;00m:\n\u001b[0;32m    478\u001b[0m         \u001b[38;5;66;03m# dtype check to exclude e.g. range objects, scalars\u001b[39;00m\n\u001b[0;32m    479\u001b[0m         arrays \u001b[38;5;241m=\u001b[39m [x\u001b[38;5;241m.\u001b[39mcopy() \u001b[38;5;28;01mif\u001b[39;00m \u001b[38;5;28mhasattr\u001b[39m(x, \u001b[38;5;124m\"\u001b[39m\u001b[38;5;124mdtype\u001b[39m\u001b[38;5;124m\"\u001b[39m) \u001b[38;5;28;01melse\u001b[39;00m x \u001b[38;5;28;01mfor\u001b[39;00m x \u001b[38;5;129;01min\u001b[39;00m arrays]\n\u001b[1;32m--> 481\u001b[0m \u001b[38;5;28;01mreturn\u001b[39;00m arrays_to_mgr(arrays, columns, index, dtype\u001b[38;5;241m=\u001b[39mdtype, typ\u001b[38;5;241m=\u001b[39mtyp, consolidate\u001b[38;5;241m=\u001b[39mcopy)\n",
      "File \u001b[1;32mC:\\ProgramData\\anaconda3\\Lib\\site-packages\\pandas\\core\\internals\\construction.py:115\u001b[0m, in \u001b[0;36marrays_to_mgr\u001b[1;34m(arrays, columns, index, dtype, verify_integrity, typ, consolidate)\u001b[0m\n\u001b[0;32m    112\u001b[0m \u001b[38;5;28;01mif\u001b[39;00m verify_integrity:\n\u001b[0;32m    113\u001b[0m     \u001b[38;5;66;03m# figure out the index, if necessary\u001b[39;00m\n\u001b[0;32m    114\u001b[0m     \u001b[38;5;28;01mif\u001b[39;00m index \u001b[38;5;129;01mis\u001b[39;00m \u001b[38;5;28;01mNone\u001b[39;00m:\n\u001b[1;32m--> 115\u001b[0m         index \u001b[38;5;241m=\u001b[39m _extract_index(arrays)\n\u001b[0;32m    116\u001b[0m     \u001b[38;5;28;01melse\u001b[39;00m:\n\u001b[0;32m    117\u001b[0m         index \u001b[38;5;241m=\u001b[39m ensure_index(index)\n",
      "File \u001b[1;32mC:\\ProgramData\\anaconda3\\Lib\\site-packages\\pandas\\core\\internals\\construction.py:645\u001b[0m, in \u001b[0;36m_extract_index\u001b[1;34m(data)\u001b[0m\n\u001b[0;32m    642\u001b[0m         \u001b[38;5;28;01mraise\u001b[39;00m \u001b[38;5;167;01mValueError\u001b[39;00m(\u001b[38;5;124m\"\u001b[39m\u001b[38;5;124mPer-column arrays must each be 1-dimensional\u001b[39m\u001b[38;5;124m\"\u001b[39m)\n\u001b[0;32m    644\u001b[0m \u001b[38;5;28;01mif\u001b[39;00m \u001b[38;5;129;01mnot\u001b[39;00m indexes \u001b[38;5;129;01mand\u001b[39;00m \u001b[38;5;129;01mnot\u001b[39;00m raw_lengths:\n\u001b[1;32m--> 645\u001b[0m     \u001b[38;5;28;01mraise\u001b[39;00m \u001b[38;5;167;01mValueError\u001b[39;00m(\u001b[38;5;124m\"\u001b[39m\u001b[38;5;124mIf using all scalar values, you must pass an index\u001b[39m\u001b[38;5;124m\"\u001b[39m)\n\u001b[0;32m    647\u001b[0m \u001b[38;5;28;01mif\u001b[39;00m have_series:\n\u001b[0;32m    648\u001b[0m     index \u001b[38;5;241m=\u001b[39m union_indexes(indexes)\n",
      "\u001b[1;31mValueError\u001b[0m: If using all scalar values, you must pass an index"
     ]
    }
   ],
   "source": [
    "#dataframe\n",
    "data=pd.DataFrame({\"name\":\"navitha\",\"age\":29,\"gender\":\"Female\"})\n",
    "data"
   ]
  },
  {
   "cell_type": "code",
   "execution_count": 66,
   "id": "d1794372",
   "metadata": {},
   "outputs": [
    {
     "name": "stdout",
     "output_type": "stream",
     "text": [
      "      NAME    EDUCATION     WORKING  SALARY\n",
      "0  navitha          BCA    Engineer   30000\n",
      "1   naveen          Dip  Coodinator   40000\n",
      "2    divya  Engineering  teamleader   40000\n"
     ]
    }
   ],
   "source": [
    "data=[[\"navitha\",\"BCA\",\"Engineer\",30000],\n",
    "     [\"naveen\",\"Dip\",\"Coodinator\",40000],\n",
    "     [\"divya\",\"Engineering\",\"teamleader\",40000]]\n",
    "\n",
    "df=pd.DataFrame(data,columns=['NAME','EDUCATION','WORKING','SALARY'])\n",
    "print(df)"
   ]
  },
  {
   "cell_type": "code",
   "execution_count": 45,
   "id": "3d93a3b0",
   "metadata": {},
   "outputs": [
    {
     "data": {
      "text/html": [
       "<div>\n",
       "<style scoped>\n",
       "    .dataframe tbody tr th:only-of-type {\n",
       "        vertical-align: middle;\n",
       "    }\n",
       "\n",
       "    .dataframe tbody tr th {\n",
       "        vertical-align: top;\n",
       "    }\n",
       "\n",
       "    .dataframe thead th {\n",
       "        text-align: right;\n",
       "    }\n",
       "</style>\n",
       "<table border=\"1\" class=\"dataframe\">\n",
       "  <thead>\n",
       "    <tr style=\"text-align: right;\">\n",
       "      <th></th>\n",
       "      <th>Emp_name</th>\n",
       "      <th>Age</th>\n",
       "    </tr>\n",
       "  </thead>\n",
       "  <tbody>\n",
       "    <tr>\n",
       "      <th>0</th>\n",
       "      <td>navitha</td>\n",
       "      <td>29</td>\n",
       "    </tr>\n",
       "    <tr>\n",
       "      <th>1</th>\n",
       "      <td>naveen</td>\n",
       "      <td>28</td>\n",
       "    </tr>\n",
       "    <tr>\n",
       "      <th>2</th>\n",
       "      <td>divya</td>\n",
       "      <td>27</td>\n",
       "    </tr>\n",
       "    <tr>\n",
       "      <th>3</th>\n",
       "      <td>siva</td>\n",
       "      <td>30</td>\n",
       "    </tr>\n",
       "  </tbody>\n",
       "</table>\n",
       "</div>"
      ],
      "text/plain": [
       "  Emp_name  Age\n",
       "0  navitha   29\n",
       "1   naveen   28\n",
       "2    divya   27\n",
       "3     siva   30"
      ]
     },
     "execution_count": 45,
     "metadata": {},
     "output_type": "execute_result"
    }
   ],
   "source": [
    "name=[\"navitha\",\"naveen\",\"divya\",\"siva\"]\n",
    "age=[29,28,27,30]\n",
    "data=pd.DataFrame({\"Emp_name\":name,\"Age\":age})\n",
    "data"
   ]
  },
  {
   "cell_type": "code",
   "execution_count": 49,
   "id": "b1c57367",
   "metadata": {},
   "outputs": [],
   "source": [
    "df=pd.read_csv(r\"C:\\Users\\navit\\Downloads\\Customers.csv\")"
   ]
  },
  {
   "cell_type": "code",
   "execution_count": 50,
   "id": "363c9683",
   "metadata": {},
   "outputs": [
    {
     "data": {
      "text/html": [
       "<div>\n",
       "<style scoped>\n",
       "    .dataframe tbody tr th:only-of-type {\n",
       "        vertical-align: middle;\n",
       "    }\n",
       "\n",
       "    .dataframe tbody tr th {\n",
       "        vertical-align: top;\n",
       "    }\n",
       "\n",
       "    .dataframe thead th {\n",
       "        text-align: right;\n",
       "    }\n",
       "</style>\n",
       "<table border=\"1\" class=\"dataframe\">\n",
       "  <thead>\n",
       "    <tr style=\"text-align: right;\">\n",
       "      <th></th>\n",
       "      <th>CustomerID</th>\n",
       "      <th>CustomerName</th>\n",
       "      <th>City</th>\n",
       "      <th>Country</th>\n",
       "    </tr>\n",
       "  </thead>\n",
       "  <tbody>\n",
       "    <tr>\n",
       "      <th>0</th>\n",
       "      <td>C1</td>\n",
       "      <td>John Doe</td>\n",
       "      <td>New York</td>\n",
       "      <td>USA</td>\n",
       "    </tr>\n",
       "    <tr>\n",
       "      <th>1</th>\n",
       "      <td>C2</td>\n",
       "      <td>Jane Smith</td>\n",
       "      <td>London</td>\n",
       "      <td>UK</td>\n",
       "    </tr>\n",
       "    <tr>\n",
       "      <th>2</th>\n",
       "      <td>C3</td>\n",
       "      <td>Carlos Diaz</td>\n",
       "      <td>Madrid</td>\n",
       "      <td>Spain</td>\n",
       "    </tr>\n",
       "  </tbody>\n",
       "</table>\n",
       "</div>"
      ],
      "text/plain": [
       "  CustomerID CustomerName      City Country\n",
       "0         C1     John Doe  New York     USA\n",
       "1         C2   Jane Smith    London      UK\n",
       "2         C3  Carlos Diaz    Madrid   Spain"
      ]
     },
     "execution_count": 50,
     "metadata": {},
     "output_type": "execute_result"
    }
   ],
   "source": [
    "df"
   ]
  },
  {
   "cell_type": "code",
   "execution_count": 51,
   "id": "93f88457",
   "metadata": {},
   "outputs": [
    {
     "data": {
      "text/html": [
       "<div>\n",
       "<style scoped>\n",
       "    .dataframe tbody tr th:only-of-type {\n",
       "        vertical-align: middle;\n",
       "    }\n",
       "\n",
       "    .dataframe tbody tr th {\n",
       "        vertical-align: top;\n",
       "    }\n",
       "\n",
       "    .dataframe thead th {\n",
       "        text-align: right;\n",
       "    }\n",
       "</style>\n",
       "<table border=\"1\" class=\"dataframe\">\n",
       "  <thead>\n",
       "    <tr style=\"text-align: right;\">\n",
       "      <th></th>\n",
       "      <th>CustomerID</th>\n",
       "      <th>CustomerName</th>\n",
       "      <th>City</th>\n",
       "      <th>Country</th>\n",
       "    </tr>\n",
       "  </thead>\n",
       "  <tbody>\n",
       "    <tr>\n",
       "      <th>0</th>\n",
       "      <td>C1</td>\n",
       "      <td>John Doe</td>\n",
       "      <td>New York</td>\n",
       "      <td>USA</td>\n",
       "    </tr>\n",
       "    <tr>\n",
       "      <th>1</th>\n",
       "      <td>C2</td>\n",
       "      <td>Jane Smith</td>\n",
       "      <td>London</td>\n",
       "      <td>UK</td>\n",
       "    </tr>\n",
       "    <tr>\n",
       "      <th>2</th>\n",
       "      <td>C3</td>\n",
       "      <td>Carlos Diaz</td>\n",
       "      <td>Madrid</td>\n",
       "      <td>Spain</td>\n",
       "    </tr>\n",
       "  </tbody>\n",
       "</table>\n",
       "</div>"
      ],
      "text/plain": [
       "  CustomerID CustomerName      City Country\n",
       "0         C1     John Doe  New York     USA\n",
       "1         C2   Jane Smith    London      UK\n",
       "2         C3  Carlos Diaz    Madrid   Spain"
      ]
     },
     "execution_count": 51,
     "metadata": {},
     "output_type": "execute_result"
    }
   ],
   "source": [
    "df.head()"
   ]
  },
  {
   "cell_type": "code",
   "execution_count": 52,
   "id": "33f63bdd",
   "metadata": {},
   "outputs": [
    {
     "data": {
      "text/html": [
       "<div>\n",
       "<style scoped>\n",
       "    .dataframe tbody tr th:only-of-type {\n",
       "        vertical-align: middle;\n",
       "    }\n",
       "\n",
       "    .dataframe tbody tr th {\n",
       "        vertical-align: top;\n",
       "    }\n",
       "\n",
       "    .dataframe thead th {\n",
       "        text-align: right;\n",
       "    }\n",
       "</style>\n",
       "<table border=\"1\" class=\"dataframe\">\n",
       "  <thead>\n",
       "    <tr style=\"text-align: right;\">\n",
       "      <th></th>\n",
       "      <th>CustomerID</th>\n",
       "      <th>CustomerName</th>\n",
       "      <th>City</th>\n",
       "      <th>Country</th>\n",
       "    </tr>\n",
       "  </thead>\n",
       "  <tbody>\n",
       "    <tr>\n",
       "      <th>0</th>\n",
       "      <td>C1</td>\n",
       "      <td>John Doe</td>\n",
       "      <td>New York</td>\n",
       "      <td>USA</td>\n",
       "    </tr>\n",
       "    <tr>\n",
       "      <th>1</th>\n",
       "      <td>C2</td>\n",
       "      <td>Jane Smith</td>\n",
       "      <td>London</td>\n",
       "      <td>UK</td>\n",
       "    </tr>\n",
       "  </tbody>\n",
       "</table>\n",
       "</div>"
      ],
      "text/plain": [
       "  CustomerID CustomerName      City Country\n",
       "0         C1     John Doe  New York     USA\n",
       "1         C2   Jane Smith    London      UK"
      ]
     },
     "execution_count": 52,
     "metadata": {},
     "output_type": "execute_result"
    }
   ],
   "source": [
    "df.head(2)"
   ]
  },
  {
   "cell_type": "code",
   "execution_count": 53,
   "id": "9585e07a",
   "metadata": {},
   "outputs": [
    {
     "data": {
      "text/html": [
       "<div>\n",
       "<style scoped>\n",
       "    .dataframe tbody tr th:only-of-type {\n",
       "        vertical-align: middle;\n",
       "    }\n",
       "\n",
       "    .dataframe tbody tr th {\n",
       "        vertical-align: top;\n",
       "    }\n",
       "\n",
       "    .dataframe thead th {\n",
       "        text-align: right;\n",
       "    }\n",
       "</style>\n",
       "<table border=\"1\" class=\"dataframe\">\n",
       "  <thead>\n",
       "    <tr style=\"text-align: right;\">\n",
       "      <th></th>\n",
       "      <th>CustomerID</th>\n",
       "      <th>CustomerName</th>\n",
       "      <th>City</th>\n",
       "      <th>Country</th>\n",
       "    </tr>\n",
       "  </thead>\n",
       "  <tbody>\n",
       "    <tr>\n",
       "      <th>0</th>\n",
       "      <td>C1</td>\n",
       "      <td>John Doe</td>\n",
       "      <td>New York</td>\n",
       "      <td>USA</td>\n",
       "    </tr>\n",
       "    <tr>\n",
       "      <th>1</th>\n",
       "      <td>C2</td>\n",
       "      <td>Jane Smith</td>\n",
       "      <td>London</td>\n",
       "      <td>UK</td>\n",
       "    </tr>\n",
       "    <tr>\n",
       "      <th>2</th>\n",
       "      <td>C3</td>\n",
       "      <td>Carlos Diaz</td>\n",
       "      <td>Madrid</td>\n",
       "      <td>Spain</td>\n",
       "    </tr>\n",
       "  </tbody>\n",
       "</table>\n",
       "</div>"
      ],
      "text/plain": [
       "  CustomerID CustomerName      City Country\n",
       "0         C1     John Doe  New York     USA\n",
       "1         C2   Jane Smith    London      UK\n",
       "2         C3  Carlos Diaz    Madrid   Spain"
      ]
     },
     "execution_count": 53,
     "metadata": {},
     "output_type": "execute_result"
    }
   ],
   "source": [
    "df.tail()"
   ]
  },
  {
   "cell_type": "code",
   "execution_count": 54,
   "id": "8485d07b",
   "metadata": {},
   "outputs": [
    {
     "data": {
      "text/html": [
       "<div>\n",
       "<style scoped>\n",
       "    .dataframe tbody tr th:only-of-type {\n",
       "        vertical-align: middle;\n",
       "    }\n",
       "\n",
       "    .dataframe tbody tr th {\n",
       "        vertical-align: top;\n",
       "    }\n",
       "\n",
       "    .dataframe thead th {\n",
       "        text-align: right;\n",
       "    }\n",
       "</style>\n",
       "<table border=\"1\" class=\"dataframe\">\n",
       "  <thead>\n",
       "    <tr style=\"text-align: right;\">\n",
       "      <th></th>\n",
       "      <th>CustomerID</th>\n",
       "      <th>CustomerName</th>\n",
       "      <th>City</th>\n",
       "      <th>Country</th>\n",
       "    </tr>\n",
       "  </thead>\n",
       "  <tbody>\n",
       "    <tr>\n",
       "      <th>2</th>\n",
       "      <td>C3</td>\n",
       "      <td>Carlos Diaz</td>\n",
       "      <td>Madrid</td>\n",
       "      <td>Spain</td>\n",
       "    </tr>\n",
       "  </tbody>\n",
       "</table>\n",
       "</div>"
      ],
      "text/plain": [
       "  CustomerID CustomerName    City Country\n",
       "2         C3  Carlos Diaz  Madrid   Spain"
      ]
     },
     "execution_count": 54,
     "metadata": {},
     "output_type": "execute_result"
    }
   ],
   "source": [
    "df.tail(1)"
   ]
  },
  {
   "cell_type": "code",
   "execution_count": 55,
   "id": "6a2c41fc",
   "metadata": {},
   "outputs": [
    {
     "data": {
      "text/html": [
       "<div>\n",
       "<style scoped>\n",
       "    .dataframe tbody tr th:only-of-type {\n",
       "        vertical-align: middle;\n",
       "    }\n",
       "\n",
       "    .dataframe tbody tr th {\n",
       "        vertical-align: top;\n",
       "    }\n",
       "\n",
       "    .dataframe thead th {\n",
       "        text-align: right;\n",
       "    }\n",
       "</style>\n",
       "<table border=\"1\" class=\"dataframe\">\n",
       "  <thead>\n",
       "    <tr style=\"text-align: right;\">\n",
       "      <th></th>\n",
       "      <th>CustomerID</th>\n",
       "      <th>CustomerName</th>\n",
       "      <th>City</th>\n",
       "      <th>Country</th>\n",
       "    </tr>\n",
       "  </thead>\n",
       "  <tbody>\n",
       "    <tr>\n",
       "      <th>count</th>\n",
       "      <td>3</td>\n",
       "      <td>3</td>\n",
       "      <td>3</td>\n",
       "      <td>3</td>\n",
       "    </tr>\n",
       "    <tr>\n",
       "      <th>unique</th>\n",
       "      <td>3</td>\n",
       "      <td>3</td>\n",
       "      <td>3</td>\n",
       "      <td>3</td>\n",
       "    </tr>\n",
       "    <tr>\n",
       "      <th>top</th>\n",
       "      <td>C1</td>\n",
       "      <td>John Doe</td>\n",
       "      <td>New York</td>\n",
       "      <td>USA</td>\n",
       "    </tr>\n",
       "    <tr>\n",
       "      <th>freq</th>\n",
       "      <td>1</td>\n",
       "      <td>1</td>\n",
       "      <td>1</td>\n",
       "      <td>1</td>\n",
       "    </tr>\n",
       "  </tbody>\n",
       "</table>\n",
       "</div>"
      ],
      "text/plain": [
       "       CustomerID CustomerName      City Country\n",
       "count           3            3         3       3\n",
       "unique          3            3         3       3\n",
       "top            C1     John Doe  New York     USA\n",
       "freq            1            1         1       1"
      ]
     },
     "execution_count": 55,
     "metadata": {},
     "output_type": "execute_result"
    }
   ],
   "source": [
    "df.describe()"
   ]
  },
  {
   "cell_type": "code",
   "execution_count": 59,
   "id": "98783f1b",
   "metadata": {},
   "outputs": [
    {
     "data": {
      "text/plain": [
       "Index(['CustomerID', 'CustomerName', 'City', 'Country'], dtype='object')"
      ]
     },
     "execution_count": 59,
     "metadata": {},
     "output_type": "execute_result"
    }
   ],
   "source": [
    "df.columns"
   ]
  },
  {
   "cell_type": "code",
   "execution_count": 60,
   "id": "a233ab4e",
   "metadata": {},
   "outputs": [
    {
     "name": "stdout",
     "output_type": "stream",
     "text": [
      "<class 'pandas.core.frame.DataFrame'>\n",
      "RangeIndex: 3 entries, 0 to 2\n",
      "Data columns (total 4 columns):\n",
      " #   Column        Non-Null Count  Dtype \n",
      "---  ------        --------------  ----- \n",
      " 0   CustomerID    3 non-null      object\n",
      " 1   CustomerName  3 non-null      object\n",
      " 2   City          3 non-null      object\n",
      " 3   Country       3 non-null      object\n",
      "dtypes: object(4)\n",
      "memory usage: 228.0+ bytes\n"
     ]
    }
   ],
   "source": [
    "df.info()"
   ]
  },
  {
   "cell_type": "code",
   "execution_count": 68,
   "id": "25f73bb3",
   "metadata": {},
   "outputs": [
    {
     "data": {
      "text/html": [
       "<div>\n",
       "<style scoped>\n",
       "    .dataframe tbody tr th:only-of-type {\n",
       "        vertical-align: middle;\n",
       "    }\n",
       "\n",
       "    .dataframe tbody tr th {\n",
       "        vertical-align: top;\n",
       "    }\n",
       "\n",
       "    .dataframe thead th {\n",
       "        text-align: right;\n",
       "    }\n",
       "</style>\n",
       "<table border=\"1\" class=\"dataframe\">\n",
       "  <thead>\n",
       "    <tr style=\"text-align: right;\">\n",
       "      <th></th>\n",
       "      <th>NAME</th>\n",
       "      <th>EDUCATION</th>\n",
       "      <th>WORKING</th>\n",
       "      <th>SALARY</th>\n",
       "    </tr>\n",
       "  </thead>\n",
       "  <tbody>\n",
       "    <tr>\n",
       "      <th>0</th>\n",
       "      <td>navitha</td>\n",
       "      <td>BCA</td>\n",
       "      <td>Engineer</td>\n",
       "      <td>30000</td>\n",
       "    </tr>\n",
       "    <tr>\n",
       "      <th>1</th>\n",
       "      <td>naveen</td>\n",
       "      <td>Dip</td>\n",
       "      <td>Coodinator</td>\n",
       "      <td>40000</td>\n",
       "    </tr>\n",
       "    <tr>\n",
       "      <th>2</th>\n",
       "      <td>divya</td>\n",
       "      <td>Engineering</td>\n",
       "      <td>teamleader</td>\n",
       "      <td>40000</td>\n",
       "    </tr>\n",
       "  </tbody>\n",
       "</table>\n",
       "</div>"
      ],
      "text/plain": [
       "      NAME    EDUCATION     WORKING  SALARY\n",
       "0  navitha          BCA    Engineer   30000\n",
       "1   naveen          Dip  Coodinator   40000\n",
       "2    divya  Engineering  teamleader   40000"
      ]
     },
     "execution_count": 68,
     "metadata": {},
     "output_type": "execute_result"
    }
   ],
   "source": [
    "df"
   ]
  },
  {
   "cell_type": "code",
   "execution_count": 69,
   "id": "3e1cfc05",
   "metadata": {},
   "outputs": [
    {
     "data": {
      "text/plain": [
       "0    navitha\n",
       "1     naveen\n",
       "2      divya\n",
       "Name: NAME, dtype: object"
      ]
     },
     "execution_count": 69,
     "metadata": {},
     "output_type": "execute_result"
    }
   ],
   "source": [
    "df['NAME']"
   ]
  },
  {
   "cell_type": "code",
   "execution_count": 70,
   "id": "32a323fc",
   "metadata": {},
   "outputs": [
    {
     "data": {
      "text/plain": [
       "0            BCA\n",
       "1            Dip\n",
       "2    Engineering\n",
       "Name: EDUCATION, dtype: object"
      ]
     },
     "execution_count": 70,
     "metadata": {},
     "output_type": "execute_result"
    }
   ],
   "source": [
    "df['EDUCATION']"
   ]
  },
  {
   "cell_type": "code",
   "execution_count": 72,
   "id": "6d9eb72e",
   "metadata": {},
   "outputs": [
    {
     "data": {
      "text/plain": [
       "NAME          navitha\n",
       "EDUCATION         BCA\n",
       "WORKING      Engineer\n",
       "SALARY          30000\n",
       "Name: 0, dtype: object"
      ]
     },
     "execution_count": 72,
     "metadata": {},
     "output_type": "execute_result"
    }
   ],
   "source": [
    "df.iloc[0]"
   ]
  },
  {
   "cell_type": "code",
   "execution_count": 73,
   "id": "b8bcc293",
   "metadata": {},
   "outputs": [
    {
     "data": {
      "text/plain": [
       "NAME               divya\n",
       "EDUCATION    Engineering\n",
       "WORKING       teamleader\n",
       "SALARY             40000\n",
       "Name: 2, dtype: object"
      ]
     },
     "execution_count": 73,
     "metadata": {},
     "output_type": "execute_result"
    }
   ],
   "source": [
    "df.iloc[2]"
   ]
  },
  {
   "cell_type": "code",
   "execution_count": 75,
   "id": "cae6265f",
   "metadata": {},
   "outputs": [
    {
     "data": {
      "text/plain": [
       "NAME               divya\n",
       "EDUCATION    Engineering\n",
       "WORKING       teamleader\n",
       "SALARY             40000\n",
       "Name: 2, dtype: object"
      ]
     },
     "execution_count": 75,
     "metadata": {},
     "output_type": "execute_result"
    }
   ],
   "source": [
    "df.loc[2]"
   ]
  },
  {
   "cell_type": "code",
   "execution_count": 81,
   "id": "b380e5d3",
   "metadata": {},
   "outputs": [
    {
     "data": {
      "text/plain": [
       "NAME          navitha\n",
       "EDUCATION         BCA\n",
       "WORKING      Engineer\n",
       "SALARY          30000\n",
       "Name: 0, dtype: object"
      ]
     },
     "execution_count": 81,
     "metadata": {},
     "output_type": "execute_result"
    }
   ],
   "source": [
    "df.iloc[0]"
   ]
  },
  {
   "cell_type": "code",
   "execution_count": null,
   "id": "256e1b3f",
   "metadata": {},
   "outputs": [],
   "source": [
    "print(df[df['Age'] > 30])"
   ]
  },
  {
   "cell_type": "code",
   "execution_count": 85,
   "id": "3d54f9da",
   "metadata": {},
   "outputs": [
    {
     "name": "stdout",
     "output_type": "stream",
     "text": [
      "     NAME    EDUCATION     WORKING  SALARY\n",
      "1  naveen          Dip  Coodinator   40000\n",
      "2   divya  Engineering  teamleader   40000\n"
     ]
    }
   ],
   "source": [
    "#filter\n",
    "print(df[df['SALARY']>30000])"
   ]
  },
  {
   "cell_type": "code",
   "execution_count": 86,
   "id": "9740c21e",
   "metadata": {},
   "outputs": [],
   "source": [
    "new_data=pd.read_csv(r\"C:\\Users\\navit\\Downloads\\car_price_prediction_.csv\")"
   ]
  },
  {
   "cell_type": "code",
   "execution_count": 87,
   "id": "055b7d6c",
   "metadata": {},
   "outputs": [
    {
     "data": {
      "text/html": [
       "<div>\n",
       "<style scoped>\n",
       "    .dataframe tbody tr th:only-of-type {\n",
       "        vertical-align: middle;\n",
       "    }\n",
       "\n",
       "    .dataframe tbody tr th {\n",
       "        vertical-align: top;\n",
       "    }\n",
       "\n",
       "    .dataframe thead th {\n",
       "        text-align: right;\n",
       "    }\n",
       "</style>\n",
       "<table border=\"1\" class=\"dataframe\">\n",
       "  <thead>\n",
       "    <tr style=\"text-align: right;\">\n",
       "      <th></th>\n",
       "      <th>Car ID</th>\n",
       "      <th>Brand</th>\n",
       "      <th>Year</th>\n",
       "      <th>Engine Size</th>\n",
       "      <th>Fuel Type</th>\n",
       "      <th>Transmission</th>\n",
       "      <th>Mileage</th>\n",
       "      <th>Condition</th>\n",
       "      <th>Price</th>\n",
       "      <th>Model</th>\n",
       "    </tr>\n",
       "  </thead>\n",
       "  <tbody>\n",
       "    <tr>\n",
       "      <th>0</th>\n",
       "      <td>1</td>\n",
       "      <td>Tesla</td>\n",
       "      <td>2016</td>\n",
       "      <td>2.3</td>\n",
       "      <td>Petrol</td>\n",
       "      <td>Manual</td>\n",
       "      <td>114832</td>\n",
       "      <td>New</td>\n",
       "      <td>26613.92</td>\n",
       "      <td>Model X</td>\n",
       "    </tr>\n",
       "    <tr>\n",
       "      <th>1</th>\n",
       "      <td>2</td>\n",
       "      <td>BMW</td>\n",
       "      <td>2018</td>\n",
       "      <td>4.4</td>\n",
       "      <td>Electric</td>\n",
       "      <td>Manual</td>\n",
       "      <td>143190</td>\n",
       "      <td>Used</td>\n",
       "      <td>14679.61</td>\n",
       "      <td>5 Series</td>\n",
       "    </tr>\n",
       "    <tr>\n",
       "      <th>2</th>\n",
       "      <td>3</td>\n",
       "      <td>Audi</td>\n",
       "      <td>2013</td>\n",
       "      <td>4.5</td>\n",
       "      <td>Electric</td>\n",
       "      <td>Manual</td>\n",
       "      <td>181601</td>\n",
       "      <td>New</td>\n",
       "      <td>44402.61</td>\n",
       "      <td>A4</td>\n",
       "    </tr>\n",
       "    <tr>\n",
       "      <th>3</th>\n",
       "      <td>4</td>\n",
       "      <td>Tesla</td>\n",
       "      <td>2011</td>\n",
       "      <td>4.1</td>\n",
       "      <td>Diesel</td>\n",
       "      <td>Automatic</td>\n",
       "      <td>68682</td>\n",
       "      <td>New</td>\n",
       "      <td>86374.33</td>\n",
       "      <td>Model Y</td>\n",
       "    </tr>\n",
       "    <tr>\n",
       "      <th>4</th>\n",
       "      <td>5</td>\n",
       "      <td>Ford</td>\n",
       "      <td>2009</td>\n",
       "      <td>2.6</td>\n",
       "      <td>Diesel</td>\n",
       "      <td>Manual</td>\n",
       "      <td>223009</td>\n",
       "      <td>Like New</td>\n",
       "      <td>73577.10</td>\n",
       "      <td>Mustang</td>\n",
       "    </tr>\n",
       "    <tr>\n",
       "      <th>...</th>\n",
       "      <td>...</td>\n",
       "      <td>...</td>\n",
       "      <td>...</td>\n",
       "      <td>...</td>\n",
       "      <td>...</td>\n",
       "      <td>...</td>\n",
       "      <td>...</td>\n",
       "      <td>...</td>\n",
       "      <td>...</td>\n",
       "      <td>...</td>\n",
       "    </tr>\n",
       "    <tr>\n",
       "      <th>2495</th>\n",
       "      <td>2496</td>\n",
       "      <td>Audi</td>\n",
       "      <td>2020</td>\n",
       "      <td>2.4</td>\n",
       "      <td>Petrol</td>\n",
       "      <td>Automatic</td>\n",
       "      <td>22650</td>\n",
       "      <td>Like New</td>\n",
       "      <td>61384.10</td>\n",
       "      <td>Q5</td>\n",
       "    </tr>\n",
       "    <tr>\n",
       "      <th>2496</th>\n",
       "      <td>2497</td>\n",
       "      <td>Audi</td>\n",
       "      <td>2001</td>\n",
       "      <td>5.7</td>\n",
       "      <td>Hybrid</td>\n",
       "      <td>Manual</td>\n",
       "      <td>77701</td>\n",
       "      <td>Like New</td>\n",
       "      <td>24710.35</td>\n",
       "      <td>A3</td>\n",
       "    </tr>\n",
       "    <tr>\n",
       "      <th>2497</th>\n",
       "      <td>2498</td>\n",
       "      <td>Ford</td>\n",
       "      <td>2021</td>\n",
       "      <td>1.1</td>\n",
       "      <td>Hybrid</td>\n",
       "      <td>Manual</td>\n",
       "      <td>272827</td>\n",
       "      <td>Like New</td>\n",
       "      <td>29902.45</td>\n",
       "      <td>Fiesta</td>\n",
       "    </tr>\n",
       "    <tr>\n",
       "      <th>2498</th>\n",
       "      <td>2499</td>\n",
       "      <td>Audi</td>\n",
       "      <td>2002</td>\n",
       "      <td>4.5</td>\n",
       "      <td>Diesel</td>\n",
       "      <td>Manual</td>\n",
       "      <td>229164</td>\n",
       "      <td>Like New</td>\n",
       "      <td>46085.67</td>\n",
       "      <td>Q5</td>\n",
       "    </tr>\n",
       "    <tr>\n",
       "      <th>2499</th>\n",
       "      <td>2500</td>\n",
       "      <td>Toyota</td>\n",
       "      <td>2005</td>\n",
       "      <td>4.6</td>\n",
       "      <td>Diesel</td>\n",
       "      <td>Automatic</td>\n",
       "      <td>80978</td>\n",
       "      <td>Used</td>\n",
       "      <td>16594.14</td>\n",
       "      <td>RAV4</td>\n",
       "    </tr>\n",
       "  </tbody>\n",
       "</table>\n",
       "<p>2500 rows × 10 columns</p>\n",
       "</div>"
      ],
      "text/plain": [
       "      Car ID   Brand  Year  Engine Size Fuel Type Transmission  Mileage  \\\n",
       "0          1   Tesla  2016          2.3    Petrol       Manual   114832   \n",
       "1          2     BMW  2018          4.4  Electric       Manual   143190   \n",
       "2          3    Audi  2013          4.5  Electric       Manual   181601   \n",
       "3          4   Tesla  2011          4.1    Diesel    Automatic    68682   \n",
       "4          5    Ford  2009          2.6    Diesel       Manual   223009   \n",
       "...      ...     ...   ...          ...       ...          ...      ...   \n",
       "2495    2496    Audi  2020          2.4    Petrol    Automatic    22650   \n",
       "2496    2497    Audi  2001          5.7    Hybrid       Manual    77701   \n",
       "2497    2498    Ford  2021          1.1    Hybrid       Manual   272827   \n",
       "2498    2499    Audi  2002          4.5    Diesel       Manual   229164   \n",
       "2499    2500  Toyota  2005          4.6    Diesel    Automatic    80978   \n",
       "\n",
       "     Condition     Price     Model  \n",
       "0          New  26613.92   Model X  \n",
       "1         Used  14679.61  5 Series  \n",
       "2          New  44402.61        A4  \n",
       "3          New  86374.33   Model Y  \n",
       "4     Like New  73577.10   Mustang  \n",
       "...        ...       ...       ...  \n",
       "2495  Like New  61384.10        Q5  \n",
       "2496  Like New  24710.35        A3  \n",
       "2497  Like New  29902.45    Fiesta  \n",
       "2498  Like New  46085.67        Q5  \n",
       "2499      Used  16594.14      RAV4  \n",
       "\n",
       "[2500 rows x 10 columns]"
      ]
     },
     "execution_count": 87,
     "metadata": {},
     "output_type": "execute_result"
    }
   ],
   "source": [
    "new_data"
   ]
  },
  {
   "cell_type": "code",
   "execution_count": 88,
   "id": "3f4dd23e",
   "metadata": {},
   "outputs": [
    {
     "data": {
      "text/html": [
       "<div>\n",
       "<style scoped>\n",
       "    .dataframe tbody tr th:only-of-type {\n",
       "        vertical-align: middle;\n",
       "    }\n",
       "\n",
       "    .dataframe tbody tr th {\n",
       "        vertical-align: top;\n",
       "    }\n",
       "\n",
       "    .dataframe thead th {\n",
       "        text-align: right;\n",
       "    }\n",
       "</style>\n",
       "<table border=\"1\" class=\"dataframe\">\n",
       "  <thead>\n",
       "    <tr style=\"text-align: right;\">\n",
       "      <th></th>\n",
       "      <th>Car ID</th>\n",
       "      <th>Brand</th>\n",
       "      <th>Year</th>\n",
       "      <th>Engine Size</th>\n",
       "      <th>Fuel Type</th>\n",
       "      <th>Transmission</th>\n",
       "      <th>Mileage</th>\n",
       "      <th>Condition</th>\n",
       "      <th>Price</th>\n",
       "      <th>Model</th>\n",
       "    </tr>\n",
       "  </thead>\n",
       "  <tbody>\n",
       "    <tr>\n",
       "      <th>0</th>\n",
       "      <td>1</td>\n",
       "      <td>Tesla</td>\n",
       "      <td>2016</td>\n",
       "      <td>2.3</td>\n",
       "      <td>Petrol</td>\n",
       "      <td>Manual</td>\n",
       "      <td>114832</td>\n",
       "      <td>New</td>\n",
       "      <td>26613.92</td>\n",
       "      <td>Model X</td>\n",
       "    </tr>\n",
       "    <tr>\n",
       "      <th>1</th>\n",
       "      <td>2</td>\n",
       "      <td>BMW</td>\n",
       "      <td>2018</td>\n",
       "      <td>4.4</td>\n",
       "      <td>Electric</td>\n",
       "      <td>Manual</td>\n",
       "      <td>143190</td>\n",
       "      <td>Used</td>\n",
       "      <td>14679.61</td>\n",
       "      <td>5 Series</td>\n",
       "    </tr>\n",
       "    <tr>\n",
       "      <th>2</th>\n",
       "      <td>3</td>\n",
       "      <td>Audi</td>\n",
       "      <td>2013</td>\n",
       "      <td>4.5</td>\n",
       "      <td>Electric</td>\n",
       "      <td>Manual</td>\n",
       "      <td>181601</td>\n",
       "      <td>New</td>\n",
       "      <td>44402.61</td>\n",
       "      <td>A4</td>\n",
       "    </tr>\n",
       "    <tr>\n",
       "      <th>3</th>\n",
       "      <td>4</td>\n",
       "      <td>Tesla</td>\n",
       "      <td>2011</td>\n",
       "      <td>4.1</td>\n",
       "      <td>Diesel</td>\n",
       "      <td>Automatic</td>\n",
       "      <td>68682</td>\n",
       "      <td>New</td>\n",
       "      <td>86374.33</td>\n",
       "      <td>Model Y</td>\n",
       "    </tr>\n",
       "    <tr>\n",
       "      <th>4</th>\n",
       "      <td>5</td>\n",
       "      <td>Ford</td>\n",
       "      <td>2009</td>\n",
       "      <td>2.6</td>\n",
       "      <td>Diesel</td>\n",
       "      <td>Manual</td>\n",
       "      <td>223009</td>\n",
       "      <td>Like New</td>\n",
       "      <td>73577.10</td>\n",
       "      <td>Mustang</td>\n",
       "    </tr>\n",
       "  </tbody>\n",
       "</table>\n",
       "</div>"
      ],
      "text/plain": [
       "   Car ID  Brand  Year  Engine Size Fuel Type Transmission  Mileage Condition  \\\n",
       "0       1  Tesla  2016          2.3    Petrol       Manual   114832       New   \n",
       "1       2    BMW  2018          4.4  Electric       Manual   143190      Used   \n",
       "2       3   Audi  2013          4.5  Electric       Manual   181601       New   \n",
       "3       4  Tesla  2011          4.1    Diesel    Automatic    68682       New   \n",
       "4       5   Ford  2009          2.6    Diesel       Manual   223009  Like New   \n",
       "\n",
       "      Price     Model  \n",
       "0  26613.92   Model X  \n",
       "1  14679.61  5 Series  \n",
       "2  44402.61        A4  \n",
       "3  86374.33   Model Y  \n",
       "4  73577.10   Mustang  "
      ]
     },
     "execution_count": 88,
     "metadata": {},
     "output_type": "execute_result"
    }
   ],
   "source": [
    "#viewing of data\n",
    "new_data.head()"
   ]
  },
  {
   "cell_type": "code",
   "execution_count": 89,
   "id": "d02b9d54",
   "metadata": {},
   "outputs": [
    {
     "data": {
      "text/html": [
       "<div>\n",
       "<style scoped>\n",
       "    .dataframe tbody tr th:only-of-type {\n",
       "        vertical-align: middle;\n",
       "    }\n",
       "\n",
       "    .dataframe tbody tr th {\n",
       "        vertical-align: top;\n",
       "    }\n",
       "\n",
       "    .dataframe thead th {\n",
       "        text-align: right;\n",
       "    }\n",
       "</style>\n",
       "<table border=\"1\" class=\"dataframe\">\n",
       "  <thead>\n",
       "    <tr style=\"text-align: right;\">\n",
       "      <th></th>\n",
       "      <th>Car ID</th>\n",
       "      <th>Brand</th>\n",
       "      <th>Year</th>\n",
       "      <th>Engine Size</th>\n",
       "      <th>Fuel Type</th>\n",
       "      <th>Transmission</th>\n",
       "      <th>Mileage</th>\n",
       "      <th>Condition</th>\n",
       "      <th>Price</th>\n",
       "      <th>Model</th>\n",
       "    </tr>\n",
       "  </thead>\n",
       "  <tbody>\n",
       "    <tr>\n",
       "      <th>2495</th>\n",
       "      <td>2496</td>\n",
       "      <td>Audi</td>\n",
       "      <td>2020</td>\n",
       "      <td>2.4</td>\n",
       "      <td>Petrol</td>\n",
       "      <td>Automatic</td>\n",
       "      <td>22650</td>\n",
       "      <td>Like New</td>\n",
       "      <td>61384.10</td>\n",
       "      <td>Q5</td>\n",
       "    </tr>\n",
       "    <tr>\n",
       "      <th>2496</th>\n",
       "      <td>2497</td>\n",
       "      <td>Audi</td>\n",
       "      <td>2001</td>\n",
       "      <td>5.7</td>\n",
       "      <td>Hybrid</td>\n",
       "      <td>Manual</td>\n",
       "      <td>77701</td>\n",
       "      <td>Like New</td>\n",
       "      <td>24710.35</td>\n",
       "      <td>A3</td>\n",
       "    </tr>\n",
       "    <tr>\n",
       "      <th>2497</th>\n",
       "      <td>2498</td>\n",
       "      <td>Ford</td>\n",
       "      <td>2021</td>\n",
       "      <td>1.1</td>\n",
       "      <td>Hybrid</td>\n",
       "      <td>Manual</td>\n",
       "      <td>272827</td>\n",
       "      <td>Like New</td>\n",
       "      <td>29902.45</td>\n",
       "      <td>Fiesta</td>\n",
       "    </tr>\n",
       "    <tr>\n",
       "      <th>2498</th>\n",
       "      <td>2499</td>\n",
       "      <td>Audi</td>\n",
       "      <td>2002</td>\n",
       "      <td>4.5</td>\n",
       "      <td>Diesel</td>\n",
       "      <td>Manual</td>\n",
       "      <td>229164</td>\n",
       "      <td>Like New</td>\n",
       "      <td>46085.67</td>\n",
       "      <td>Q5</td>\n",
       "    </tr>\n",
       "    <tr>\n",
       "      <th>2499</th>\n",
       "      <td>2500</td>\n",
       "      <td>Toyota</td>\n",
       "      <td>2005</td>\n",
       "      <td>4.6</td>\n",
       "      <td>Diesel</td>\n",
       "      <td>Automatic</td>\n",
       "      <td>80978</td>\n",
       "      <td>Used</td>\n",
       "      <td>16594.14</td>\n",
       "      <td>RAV4</td>\n",
       "    </tr>\n",
       "  </tbody>\n",
       "</table>\n",
       "</div>"
      ],
      "text/plain": [
       "      Car ID   Brand  Year  Engine Size Fuel Type Transmission  Mileage  \\\n",
       "2495    2496    Audi  2020          2.4    Petrol    Automatic    22650   \n",
       "2496    2497    Audi  2001          5.7    Hybrid       Manual    77701   \n",
       "2497    2498    Ford  2021          1.1    Hybrid       Manual   272827   \n",
       "2498    2499    Audi  2002          4.5    Diesel       Manual   229164   \n",
       "2499    2500  Toyota  2005          4.6    Diesel    Automatic    80978   \n",
       "\n",
       "     Condition     Price   Model  \n",
       "2495  Like New  61384.10      Q5  \n",
       "2496  Like New  24710.35      A3  \n",
       "2497  Like New  29902.45  Fiesta  \n",
       "2498  Like New  46085.67      Q5  \n",
       "2499      Used  16594.14    RAV4  "
      ]
     },
     "execution_count": 89,
     "metadata": {},
     "output_type": "execute_result"
    }
   ],
   "source": [
    "new_data.tail()"
   ]
  },
  {
   "cell_type": "code",
   "execution_count": 90,
   "id": "4acf9ed6",
   "metadata": {},
   "outputs": [
    {
     "name": "stdout",
     "output_type": "stream",
     "text": [
      "<class 'pandas.core.frame.DataFrame'>\n",
      "RangeIndex: 2500 entries, 0 to 2499\n",
      "Data columns (total 10 columns):\n",
      " #   Column        Non-Null Count  Dtype  \n",
      "---  ------        --------------  -----  \n",
      " 0   Car ID        2500 non-null   int64  \n",
      " 1   Brand         2500 non-null   object \n",
      " 2   Year          2500 non-null   int64  \n",
      " 3   Engine Size   2500 non-null   float64\n",
      " 4   Fuel Type     2500 non-null   object \n",
      " 5   Transmission  2500 non-null   object \n",
      " 6   Mileage       2500 non-null   int64  \n",
      " 7   Condition     2500 non-null   object \n",
      " 8   Price         2500 non-null   float64\n",
      " 9   Model         2500 non-null   object \n",
      "dtypes: float64(2), int64(3), object(5)\n",
      "memory usage: 195.4+ KB\n"
     ]
    }
   ],
   "source": [
    "new_data.info()"
   ]
  },
  {
   "cell_type": "code",
   "execution_count": null,
   "id": "ac9c8f5b",
   "metadata": {},
   "outputs": [],
   "source": [
    "# Group and summarize\n",
    "summary = df.groupby('Region')['Sales'].sum()"
   ]
  },
  {
   "cell_type": "code",
   "execution_count": null,
   "id": "1f2d1506",
   "metadata": {},
   "outputs": [],
   "source": [
    "# Merge two DataFrames\n",
    "df1 = pd.DataFrame({'ID': [1, 2], 'Name': ['Alice', 'Bob']})\n",
    "df2 = pd.DataFrame({'ID': [1, 2], 'Salary': [50000, 60000]})\n",
    "merged = pd.merge(df1, df2, on='ID')\n",
    "\n",
    "# Concatenate DataFrames\n",
    "concatenated = pd.concat([df1, df2], axis=1)\n"
   ]
  },
  {
   "cell_type": "code",
   "execution_count": null,
   "id": "9523c4bc",
   "metadata": {},
   "outputs": [],
   "source": [
    "# Group by a column and calculate mean\n",
    "grouped = df.groupby('Age').mean()\n",
    "\n",
    "# Aggregating multiple statistics\n",
    "aggregated = df.groupby('Age').agg({'Salary': ['mean', 'max']})"
   ]
  },
  {
   "cell_type": "code",
   "execution_count": null,
   "id": "32e18a64",
   "metadata": {},
   "outputs": [],
   "source": [
    "# Adding a new column\n",
    "df['Bonus'] = df['Salary'] * 0.1\n",
    "\n",
    "# Modifying an existing column\n",
    "df['Age'] = df['Age'] + 1"
   ]
  },
  {
   "cell_type": "code",
   "execution_count": null,
   "id": "dab5e2b2",
   "metadata": {},
   "outputs": [],
   "source": [
    "# Drop a column\n",
    "df = df.drop('Bonus', axis=1)\n",
    "\n",
    "# Drop a row\n",
    "df = df.drop(0, axis=0)"
   ]
  },
  {
   "cell_type": "code",
   "execution_count": 91,
   "id": "12c49a6c",
   "metadata": {},
   "outputs": [
    {
     "data": {
      "text/html": [
       "<div>\n",
       "<style scoped>\n",
       "    .dataframe tbody tr th:only-of-type {\n",
       "        vertical-align: middle;\n",
       "    }\n",
       "\n",
       "    .dataframe tbody tr th {\n",
       "        vertical-align: top;\n",
       "    }\n",
       "\n",
       "    .dataframe thead th {\n",
       "        text-align: right;\n",
       "    }\n",
       "</style>\n",
       "<table border=\"1\" class=\"dataframe\">\n",
       "  <thead>\n",
       "    <tr style=\"text-align: right;\">\n",
       "      <th></th>\n",
       "      <th>Car ID</th>\n",
       "      <th>Year</th>\n",
       "      <th>Engine Size</th>\n",
       "      <th>Mileage</th>\n",
       "      <th>Price</th>\n",
       "    </tr>\n",
       "  </thead>\n",
       "  <tbody>\n",
       "    <tr>\n",
       "      <th>count</th>\n",
       "      <td>2500.00000</td>\n",
       "      <td>2500.0000</td>\n",
       "      <td>2500.000000</td>\n",
       "      <td>2500.000000</td>\n",
       "      <td>2500.000000</td>\n",
       "    </tr>\n",
       "    <tr>\n",
       "      <th>mean</th>\n",
       "      <td>1250.50000</td>\n",
       "      <td>2011.6268</td>\n",
       "      <td>3.465240</td>\n",
       "      <td>149749.844800</td>\n",
       "      <td>52638.022532</td>\n",
       "    </tr>\n",
       "    <tr>\n",
       "      <th>std</th>\n",
       "      <td>721.83216</td>\n",
       "      <td>6.9917</td>\n",
       "      <td>1.432053</td>\n",
       "      <td>87919.952034</td>\n",
       "      <td>27295.833455</td>\n",
       "    </tr>\n",
       "    <tr>\n",
       "      <th>min</th>\n",
       "      <td>1.00000</td>\n",
       "      <td>2000.0000</td>\n",
       "      <td>1.000000</td>\n",
       "      <td>15.000000</td>\n",
       "      <td>5011.270000</td>\n",
       "    </tr>\n",
       "    <tr>\n",
       "      <th>25%</th>\n",
       "      <td>625.75000</td>\n",
       "      <td>2005.0000</td>\n",
       "      <td>2.200000</td>\n",
       "      <td>71831.500000</td>\n",
       "      <td>28908.485000</td>\n",
       "    </tr>\n",
       "    <tr>\n",
       "      <th>50%</th>\n",
       "      <td>1250.50000</td>\n",
       "      <td>2012.0000</td>\n",
       "      <td>3.400000</td>\n",
       "      <td>149085.000000</td>\n",
       "      <td>53485.240000</td>\n",
       "    </tr>\n",
       "    <tr>\n",
       "      <th>75%</th>\n",
       "      <td>1875.25000</td>\n",
       "      <td>2018.0000</td>\n",
       "      <td>4.700000</td>\n",
       "      <td>225990.500000</td>\n",
       "      <td>75838.532500</td>\n",
       "    </tr>\n",
       "    <tr>\n",
       "      <th>max</th>\n",
       "      <td>2500.00000</td>\n",
       "      <td>2023.0000</td>\n",
       "      <td>6.000000</td>\n",
       "      <td>299967.000000</td>\n",
       "      <td>99982.590000</td>\n",
       "    </tr>\n",
       "  </tbody>\n",
       "</table>\n",
       "</div>"
      ],
      "text/plain": [
       "           Car ID       Year  Engine Size        Mileage         Price\n",
       "count  2500.00000  2500.0000  2500.000000    2500.000000   2500.000000\n",
       "mean   1250.50000  2011.6268     3.465240  149749.844800  52638.022532\n",
       "std     721.83216     6.9917     1.432053   87919.952034  27295.833455\n",
       "min       1.00000  2000.0000     1.000000      15.000000   5011.270000\n",
       "25%     625.75000  2005.0000     2.200000   71831.500000  28908.485000\n",
       "50%    1250.50000  2012.0000     3.400000  149085.000000  53485.240000\n",
       "75%    1875.25000  2018.0000     4.700000  225990.500000  75838.532500\n",
       "max    2500.00000  2023.0000     6.000000  299967.000000  99982.590000"
      ]
     },
     "execution_count": 91,
     "metadata": {},
     "output_type": "execute_result"
    }
   ],
   "source": [
    "new_data.describe()"
   ]
  },
  {
   "cell_type": "code",
   "execution_count": 92,
   "id": "bfe34084",
   "metadata": {},
   "outputs": [
    {
     "data": {
      "text/plain": [
       "Index(['Car ID', 'Brand', 'Year', 'Engine Size', 'Fuel Type', 'Transmission',\n",
       "       'Mileage', 'Condition', 'Price', 'Model'],\n",
       "      dtype='object')"
      ]
     },
     "execution_count": 92,
     "metadata": {},
     "output_type": "execute_result"
    }
   ],
   "source": [
    "new_data.columns"
   ]
  },
  {
   "cell_type": "code",
   "execution_count": 93,
   "id": "5ed2889e",
   "metadata": {},
   "outputs": [
    {
     "data": {
      "text/plain": [
       "Car ID                 1\n",
       "Brand              Tesla\n",
       "Year                2016\n",
       "Engine Size          2.3\n",
       "Fuel Type         Petrol\n",
       "Transmission      Manual\n",
       "Mileage           114832\n",
       "Condition            New\n",
       "Price           26613.92\n",
       "Model            Model X\n",
       "Name: 0, dtype: object"
      ]
     },
     "execution_count": 93,
     "metadata": {},
     "output_type": "execute_result"
    }
   ],
   "source": [
    "new_data.iloc[0]"
   ]
  },
  {
   "cell_type": "code",
   "execution_count": 94,
   "id": "16edbd50",
   "metadata": {},
   "outputs": [
    {
     "data": {
      "text/plain": [
       "Car ID                 1\n",
       "Brand              Tesla\n",
       "Year                2016\n",
       "Engine Size          2.3\n",
       "Fuel Type         Petrol\n",
       "Transmission      Manual\n",
       "Mileage           114832\n",
       "Condition            New\n",
       "Price           26613.92\n",
       "Model            Model X\n",
       "Name: 0, dtype: object"
      ]
     },
     "execution_count": 94,
     "metadata": {},
     "output_type": "execute_result"
    }
   ],
   "source": [
    "new_data.loc[0]"
   ]
  },
  {
   "cell_type": "code",
   "execution_count": 95,
   "id": "d8e64de6",
   "metadata": {},
   "outputs": [
    {
     "data": {
      "text/html": [
       "<div>\n",
       "<style scoped>\n",
       "    .dataframe tbody tr th:only-of-type {\n",
       "        vertical-align: middle;\n",
       "    }\n",
       "\n",
       "    .dataframe tbody tr th {\n",
       "        vertical-align: top;\n",
       "    }\n",
       "\n",
       "    .dataframe thead th {\n",
       "        text-align: right;\n",
       "    }\n",
       "</style>\n",
       "<table border=\"1\" class=\"dataframe\">\n",
       "  <thead>\n",
       "    <tr style=\"text-align: right;\">\n",
       "      <th></th>\n",
       "      <th>Car ID</th>\n",
       "      <th>Brand</th>\n",
       "      <th>Year</th>\n",
       "      <th>Engine Size</th>\n",
       "      <th>Fuel Type</th>\n",
       "      <th>Transmission</th>\n",
       "      <th>Mileage</th>\n",
       "      <th>Condition</th>\n",
       "      <th>Price</th>\n",
       "      <th>Model</th>\n",
       "    </tr>\n",
       "  </thead>\n",
       "  <tbody>\n",
       "    <tr>\n",
       "      <th>0</th>\n",
       "      <td>1</td>\n",
       "      <td>Tesla</td>\n",
       "      <td>2016</td>\n",
       "      <td>2.3</td>\n",
       "      <td>Petrol</td>\n",
       "      <td>Manual</td>\n",
       "      <td>114832</td>\n",
       "      <td>New</td>\n",
       "      <td>26613.92</td>\n",
       "      <td>Model X</td>\n",
       "    </tr>\n",
       "    <tr>\n",
       "      <th>1</th>\n",
       "      <td>2</td>\n",
       "      <td>BMW</td>\n",
       "      <td>2018</td>\n",
       "      <td>4.4</td>\n",
       "      <td>Electric</td>\n",
       "      <td>Manual</td>\n",
       "      <td>143190</td>\n",
       "      <td>Used</td>\n",
       "      <td>14679.61</td>\n",
       "      <td>5 Series</td>\n",
       "    </tr>\n",
       "    <tr>\n",
       "      <th>2</th>\n",
       "      <td>3</td>\n",
       "      <td>Audi</td>\n",
       "      <td>2013</td>\n",
       "      <td>4.5</td>\n",
       "      <td>Electric</td>\n",
       "      <td>Manual</td>\n",
       "      <td>181601</td>\n",
       "      <td>New</td>\n",
       "      <td>44402.61</td>\n",
       "      <td>A4</td>\n",
       "    </tr>\n",
       "    <tr>\n",
       "      <th>3</th>\n",
       "      <td>4</td>\n",
       "      <td>Tesla</td>\n",
       "      <td>2011</td>\n",
       "      <td>4.1</td>\n",
       "      <td>Diesel</td>\n",
       "      <td>Automatic</td>\n",
       "      <td>68682</td>\n",
       "      <td>New</td>\n",
       "      <td>86374.33</td>\n",
       "      <td>Model Y</td>\n",
       "    </tr>\n",
       "    <tr>\n",
       "      <th>4</th>\n",
       "      <td>5</td>\n",
       "      <td>Ford</td>\n",
       "      <td>2009</td>\n",
       "      <td>2.6</td>\n",
       "      <td>Diesel</td>\n",
       "      <td>Manual</td>\n",
       "      <td>223009</td>\n",
       "      <td>Like New</td>\n",
       "      <td>73577.10</td>\n",
       "      <td>Mustang</td>\n",
       "    </tr>\n",
       "    <tr>\n",
       "      <th>5</th>\n",
       "      <td>6</td>\n",
       "      <td>Audi</td>\n",
       "      <td>2019</td>\n",
       "      <td>2.4</td>\n",
       "      <td>Diesel</td>\n",
       "      <td>Automatic</td>\n",
       "      <td>246553</td>\n",
       "      <td>Like New</td>\n",
       "      <td>88969.76</td>\n",
       "      <td>Q7</td>\n",
       "    </tr>\n",
       "    <tr>\n",
       "      <th>6</th>\n",
       "      <td>7</td>\n",
       "      <td>Audi</td>\n",
       "      <td>2020</td>\n",
       "      <td>4.0</td>\n",
       "      <td>Electric</td>\n",
       "      <td>Automatic</td>\n",
       "      <td>135486</td>\n",
       "      <td>Used</td>\n",
       "      <td>63498.75</td>\n",
       "      <td>Q5</td>\n",
       "    </tr>\n",
       "    <tr>\n",
       "      <th>7</th>\n",
       "      <td>8</td>\n",
       "      <td>Tesla</td>\n",
       "      <td>2017</td>\n",
       "      <td>5.3</td>\n",
       "      <td>Hybrid</td>\n",
       "      <td>Automatic</td>\n",
       "      <td>83030</td>\n",
       "      <td>New</td>\n",
       "      <td>17381.19</td>\n",
       "      <td>Model Y</td>\n",
       "    </tr>\n",
       "    <tr>\n",
       "      <th>8</th>\n",
       "      <td>9</td>\n",
       "      <td>Honda</td>\n",
       "      <td>2023</td>\n",
       "      <td>5.7</td>\n",
       "      <td>Electric</td>\n",
       "      <td>Manual</td>\n",
       "      <td>120360</td>\n",
       "      <td>Like New</td>\n",
       "      <td>15905.62</td>\n",
       "      <td>Civic</td>\n",
       "    </tr>\n",
       "  </tbody>\n",
       "</table>\n",
       "</div>"
      ],
      "text/plain": [
       "   Car ID  Brand  Year  Engine Size Fuel Type Transmission  Mileage Condition  \\\n",
       "0       1  Tesla  2016          2.3    Petrol       Manual   114832       New   \n",
       "1       2    BMW  2018          4.4  Electric       Manual   143190      Used   \n",
       "2       3   Audi  2013          4.5  Electric       Manual   181601       New   \n",
       "3       4  Tesla  2011          4.1    Diesel    Automatic    68682       New   \n",
       "4       5   Ford  2009          2.6    Diesel       Manual   223009  Like New   \n",
       "5       6   Audi  2019          2.4    Diesel    Automatic   246553  Like New   \n",
       "6       7   Audi  2020          4.0  Electric    Automatic   135486      Used   \n",
       "7       8  Tesla  2017          5.3    Hybrid    Automatic    83030       New   \n",
       "8       9  Honda  2023          5.7  Electric       Manual   120360  Like New   \n",
       "\n",
       "      Price     Model  \n",
       "0  26613.92   Model X  \n",
       "1  14679.61  5 Series  \n",
       "2  44402.61        A4  \n",
       "3  86374.33   Model Y  \n",
       "4  73577.10   Mustang  \n",
       "5  88969.76        Q7  \n",
       "6  63498.75        Q5  \n",
       "7  17381.19   Model Y  \n",
       "8  15905.62     Civic  "
      ]
     },
     "execution_count": 95,
     "metadata": {},
     "output_type": "execute_result"
    }
   ],
   "source": [
    "new_data.iloc[0:9]"
   ]
  },
  {
   "cell_type": "code",
   "execution_count": 96,
   "id": "243b0e45",
   "metadata": {},
   "outputs": [
    {
     "data": {
      "text/html": [
       "<div>\n",
       "<style scoped>\n",
       "    .dataframe tbody tr th:only-of-type {\n",
       "        vertical-align: middle;\n",
       "    }\n",
       "\n",
       "    .dataframe tbody tr th {\n",
       "        vertical-align: top;\n",
       "    }\n",
       "\n",
       "    .dataframe thead th {\n",
       "        text-align: right;\n",
       "    }\n",
       "</style>\n",
       "<table border=\"1\" class=\"dataframe\">\n",
       "  <thead>\n",
       "    <tr style=\"text-align: right;\">\n",
       "      <th></th>\n",
       "      <th>Car ID</th>\n",
       "      <th>Brand</th>\n",
       "      <th>Year</th>\n",
       "      <th>Engine Size</th>\n",
       "      <th>Fuel Type</th>\n",
       "      <th>Transmission</th>\n",
       "      <th>Mileage</th>\n",
       "      <th>Condition</th>\n",
       "      <th>Price</th>\n",
       "      <th>Model</th>\n",
       "    </tr>\n",
       "  </thead>\n",
       "  <tbody>\n",
       "    <tr>\n",
       "      <th>0</th>\n",
       "      <td>1</td>\n",
       "      <td>Tesla</td>\n",
       "      <td>2016</td>\n",
       "      <td>2.3</td>\n",
       "      <td>Petrol</td>\n",
       "      <td>Manual</td>\n",
       "      <td>114832</td>\n",
       "      <td>New</td>\n",
       "      <td>26613.92</td>\n",
       "      <td>Model X</td>\n",
       "    </tr>\n",
       "    <tr>\n",
       "      <th>1</th>\n",
       "      <td>2</td>\n",
       "      <td>BMW</td>\n",
       "      <td>2018</td>\n",
       "      <td>4.4</td>\n",
       "      <td>Electric</td>\n",
       "      <td>Manual</td>\n",
       "      <td>143190</td>\n",
       "      <td>Used</td>\n",
       "      <td>14679.61</td>\n",
       "      <td>5 Series</td>\n",
       "    </tr>\n",
       "    <tr>\n",
       "      <th>2</th>\n",
       "      <td>3</td>\n",
       "      <td>Audi</td>\n",
       "      <td>2013</td>\n",
       "      <td>4.5</td>\n",
       "      <td>Electric</td>\n",
       "      <td>Manual</td>\n",
       "      <td>181601</td>\n",
       "      <td>New</td>\n",
       "      <td>44402.61</td>\n",
       "      <td>A4</td>\n",
       "    </tr>\n",
       "    <tr>\n",
       "      <th>3</th>\n",
       "      <td>4</td>\n",
       "      <td>Tesla</td>\n",
       "      <td>2011</td>\n",
       "      <td>4.1</td>\n",
       "      <td>Diesel</td>\n",
       "      <td>Automatic</td>\n",
       "      <td>68682</td>\n",
       "      <td>New</td>\n",
       "      <td>86374.33</td>\n",
       "      <td>Model Y</td>\n",
       "    </tr>\n",
       "    <tr>\n",
       "      <th>4</th>\n",
       "      <td>5</td>\n",
       "      <td>Ford</td>\n",
       "      <td>2009</td>\n",
       "      <td>2.6</td>\n",
       "      <td>Diesel</td>\n",
       "      <td>Manual</td>\n",
       "      <td>223009</td>\n",
       "      <td>Like New</td>\n",
       "      <td>73577.10</td>\n",
       "      <td>Mustang</td>\n",
       "    </tr>\n",
       "    <tr>\n",
       "      <th>5</th>\n",
       "      <td>6</td>\n",
       "      <td>Audi</td>\n",
       "      <td>2019</td>\n",
       "      <td>2.4</td>\n",
       "      <td>Diesel</td>\n",
       "      <td>Automatic</td>\n",
       "      <td>246553</td>\n",
       "      <td>Like New</td>\n",
       "      <td>88969.76</td>\n",
       "      <td>Q7</td>\n",
       "    </tr>\n",
       "    <tr>\n",
       "      <th>6</th>\n",
       "      <td>7</td>\n",
       "      <td>Audi</td>\n",
       "      <td>2020</td>\n",
       "      <td>4.0</td>\n",
       "      <td>Electric</td>\n",
       "      <td>Automatic</td>\n",
       "      <td>135486</td>\n",
       "      <td>Used</td>\n",
       "      <td>63498.75</td>\n",
       "      <td>Q5</td>\n",
       "    </tr>\n",
       "    <tr>\n",
       "      <th>7</th>\n",
       "      <td>8</td>\n",
       "      <td>Tesla</td>\n",
       "      <td>2017</td>\n",
       "      <td>5.3</td>\n",
       "      <td>Hybrid</td>\n",
       "      <td>Automatic</td>\n",
       "      <td>83030</td>\n",
       "      <td>New</td>\n",
       "      <td>17381.19</td>\n",
       "      <td>Model Y</td>\n",
       "    </tr>\n",
       "    <tr>\n",
       "      <th>8</th>\n",
       "      <td>9</td>\n",
       "      <td>Honda</td>\n",
       "      <td>2023</td>\n",
       "      <td>5.7</td>\n",
       "      <td>Electric</td>\n",
       "      <td>Manual</td>\n",
       "      <td>120360</td>\n",
       "      <td>Like New</td>\n",
       "      <td>15905.62</td>\n",
       "      <td>Civic</td>\n",
       "    </tr>\n",
       "    <tr>\n",
       "      <th>9</th>\n",
       "      <td>10</td>\n",
       "      <td>Ford</td>\n",
       "      <td>2010</td>\n",
       "      <td>1.5</td>\n",
       "      <td>Electric</td>\n",
       "      <td>Automatic</td>\n",
       "      <td>135009</td>\n",
       "      <td>Like New</td>\n",
       "      <td>9560.22</td>\n",
       "      <td>Explorer</td>\n",
       "    </tr>\n",
       "  </tbody>\n",
       "</table>\n",
       "</div>"
      ],
      "text/plain": [
       "   Car ID  Brand  Year  Engine Size Fuel Type Transmission  Mileage Condition  \\\n",
       "0       1  Tesla  2016          2.3    Petrol       Manual   114832       New   \n",
       "1       2    BMW  2018          4.4  Electric       Manual   143190      Used   \n",
       "2       3   Audi  2013          4.5  Electric       Manual   181601       New   \n",
       "3       4  Tesla  2011          4.1    Diesel    Automatic    68682       New   \n",
       "4       5   Ford  2009          2.6    Diesel       Manual   223009  Like New   \n",
       "5       6   Audi  2019          2.4    Diesel    Automatic   246553  Like New   \n",
       "6       7   Audi  2020          4.0  Electric    Automatic   135486      Used   \n",
       "7       8  Tesla  2017          5.3    Hybrid    Automatic    83030       New   \n",
       "8       9  Honda  2023          5.7  Electric       Manual   120360  Like New   \n",
       "9      10   Ford  2010          1.5  Electric    Automatic   135009  Like New   \n",
       "\n",
       "      Price     Model  \n",
       "0  26613.92   Model X  \n",
       "1  14679.61  5 Series  \n",
       "2  44402.61        A4  \n",
       "3  86374.33   Model Y  \n",
       "4  73577.10   Mustang  \n",
       "5  88969.76        Q7  \n",
       "6  63498.75        Q5  \n",
       "7  17381.19   Model Y  \n",
       "8  15905.62     Civic  \n",
       "9   9560.22  Explorer  "
      ]
     },
     "execution_count": 96,
     "metadata": {},
     "output_type": "execute_result"
    }
   ],
   "source": [
    "new_data.loc[0:9]"
   ]
  },
  {
   "cell_type": "code",
   "execution_count": 100,
   "id": "2a39f457",
   "metadata": {},
   "outputs": [
    {
     "name": "stdout",
     "output_type": "stream",
     "text": [
      "      Car ID Brand  Year  Engine Size Fuel Type Transmission  Mileage  \\\n",
      "2          3  Audi  2013          4.5  Electric       Manual   181601   \n",
      "5          6  Audi  2019          2.4    Diesel    Automatic   246553   \n",
      "6          7  Audi  2020          4.0  Electric    Automatic   135486   \n",
      "13        14  Audi  2023          5.4  Electric    Automatic   263894   \n",
      "17        18  Audi  2022          4.4    Hybrid    Automatic   192803   \n",
      "...      ...   ...   ...          ...       ...          ...      ...   \n",
      "2487    2488  Audi  2021          4.6  Electric    Automatic     9466   \n",
      "2490    2491  Audi  2018          2.4    Hybrid       Manual   146539   \n",
      "2495    2496  Audi  2020          2.4    Petrol    Automatic    22650   \n",
      "2496    2497  Audi  2001          5.7    Hybrid       Manual    77701   \n",
      "2498    2499  Audi  2002          4.5    Diesel       Manual   229164   \n",
      "\n",
      "     Condition     Price Model  \n",
      "2          New  44402.61    A4  \n",
      "5     Like New  88969.76    Q7  \n",
      "6         Used  63498.75    Q5  \n",
      "13    Like New  70193.74    Q7  \n",
      "17    Like New  75044.95    A3  \n",
      "...        ...       ...   ...  \n",
      "2487      Used  15126.76    A3  \n",
      "2490      Used  98434.45    Q5  \n",
      "2495  Like New  61384.10    Q5  \n",
      "2496  Like New  24710.35    A3  \n",
      "2498  Like New  46085.67    Q5  \n",
      "\n",
      "[368 rows x 10 columns]\n"
     ]
    }
   ],
   "source": [
    "#ffilter\n",
    "print(new_data[new_data['Brand']=='Audi'])"
   ]
  },
  {
   "cell_type": "code",
   "execution_count": 101,
   "id": "70e2424a",
   "metadata": {},
   "outputs": [
    {
     "name": "stdout",
     "output_type": "stream",
     "text": [
      "<class 'pandas.core.frame.DataFrame'>\n",
      "RangeIndex: 3 entries, 0 to 2\n",
      "Data columns (total 4 columns):\n",
      " #   Column     Non-Null Count  Dtype \n",
      "---  ------     --------------  ----- \n",
      " 0   NAME       3 non-null      object\n",
      " 1   EDUCATION  3 non-null      object\n",
      " 2   WORKING    3 non-null      object\n",
      " 3   SALARY     3 non-null      int64 \n",
      "dtypes: int64(1), object(3)\n",
      "memory usage: 228.0+ bytes\n"
     ]
    }
   ],
   "source": [
    "#cleaning\n",
    "df.info()"
   ]
  },
  {
   "cell_type": "code",
   "execution_count": 104,
   "id": "6a4c56b3",
   "metadata": {},
   "outputs": [
    {
     "data": {
      "text/plain": [
       "Car ID          0\n",
       "Brand           0\n",
       "Year            0\n",
       "Engine Size     0\n",
       "Fuel Type       0\n",
       "Transmission    0\n",
       "Mileage         0\n",
       "Condition       0\n",
       "Price           0\n",
       "Model           0\n",
       "dtype: int64"
      ]
     },
     "execution_count": 104,
     "metadata": {},
     "output_type": "execute_result"
    }
   ],
   "source": [
    "new_data.isnull().sum()"
   ]
  },
  {
   "cell_type": "code",
   "execution_count": 107,
   "id": "ac4c7023",
   "metadata": {},
   "outputs": [
    {
     "data": {
      "text/plain": [
       "Car ID            int64\n",
       "Brand            object\n",
       "Year              int64\n",
       "Engine Size     float64\n",
       "Fuel Type        object\n",
       "Transmission     object\n",
       "Mileage           int64\n",
       "Condition        object\n",
       "Price           float64\n",
       "Model            object\n",
       "dtype: object"
      ]
     },
     "execution_count": 107,
     "metadata": {},
     "output_type": "execute_result"
    }
   ],
   "source": [
    "new_data.dtypes"
   ]
  },
  {
   "cell_type": "code",
   "execution_count": 110,
   "id": "1ff9ef5f",
   "metadata": {},
   "outputs": [],
   "source": [
    "df_cle=new_data.drop_duplicates()"
   ]
  },
  {
   "cell_type": "code",
   "execution_count": 111,
   "id": "4f82eab4",
   "metadata": {},
   "outputs": [
    {
     "data": {
      "text/html": [
       "<div>\n",
       "<style scoped>\n",
       "    .dataframe tbody tr th:only-of-type {\n",
       "        vertical-align: middle;\n",
       "    }\n",
       "\n",
       "    .dataframe tbody tr th {\n",
       "        vertical-align: top;\n",
       "    }\n",
       "\n",
       "    .dataframe thead th {\n",
       "        text-align: right;\n",
       "    }\n",
       "</style>\n",
       "<table border=\"1\" class=\"dataframe\">\n",
       "  <thead>\n",
       "    <tr style=\"text-align: right;\">\n",
       "      <th></th>\n",
       "      <th>Car ID</th>\n",
       "      <th>Brand</th>\n",
       "      <th>Year</th>\n",
       "      <th>Engine Size</th>\n",
       "      <th>Fuel Type</th>\n",
       "      <th>Transmission</th>\n",
       "      <th>Mileage</th>\n",
       "      <th>Condition</th>\n",
       "      <th>Price</th>\n",
       "      <th>Model</th>\n",
       "    </tr>\n",
       "  </thead>\n",
       "  <tbody>\n",
       "    <tr>\n",
       "      <th>0</th>\n",
       "      <td>1</td>\n",
       "      <td>Tesla</td>\n",
       "      <td>2016</td>\n",
       "      <td>2.3</td>\n",
       "      <td>Petrol</td>\n",
       "      <td>Manual</td>\n",
       "      <td>114832</td>\n",
       "      <td>New</td>\n",
       "      <td>26613.92</td>\n",
       "      <td>Model X</td>\n",
       "    </tr>\n",
       "    <tr>\n",
       "      <th>1</th>\n",
       "      <td>2</td>\n",
       "      <td>BMW</td>\n",
       "      <td>2018</td>\n",
       "      <td>4.4</td>\n",
       "      <td>Electric</td>\n",
       "      <td>Manual</td>\n",
       "      <td>143190</td>\n",
       "      <td>Used</td>\n",
       "      <td>14679.61</td>\n",
       "      <td>5 Series</td>\n",
       "    </tr>\n",
       "    <tr>\n",
       "      <th>2</th>\n",
       "      <td>3</td>\n",
       "      <td>Audi</td>\n",
       "      <td>2013</td>\n",
       "      <td>4.5</td>\n",
       "      <td>Electric</td>\n",
       "      <td>Manual</td>\n",
       "      <td>181601</td>\n",
       "      <td>New</td>\n",
       "      <td>44402.61</td>\n",
       "      <td>A4</td>\n",
       "    </tr>\n",
       "    <tr>\n",
       "      <th>3</th>\n",
       "      <td>4</td>\n",
       "      <td>Tesla</td>\n",
       "      <td>2011</td>\n",
       "      <td>4.1</td>\n",
       "      <td>Diesel</td>\n",
       "      <td>Automatic</td>\n",
       "      <td>68682</td>\n",
       "      <td>New</td>\n",
       "      <td>86374.33</td>\n",
       "      <td>Model Y</td>\n",
       "    </tr>\n",
       "    <tr>\n",
       "      <th>4</th>\n",
       "      <td>5</td>\n",
       "      <td>Ford</td>\n",
       "      <td>2009</td>\n",
       "      <td>2.6</td>\n",
       "      <td>Diesel</td>\n",
       "      <td>Manual</td>\n",
       "      <td>223009</td>\n",
       "      <td>Like New</td>\n",
       "      <td>73577.10</td>\n",
       "      <td>Mustang</td>\n",
       "    </tr>\n",
       "    <tr>\n",
       "      <th>...</th>\n",
       "      <td>...</td>\n",
       "      <td>...</td>\n",
       "      <td>...</td>\n",
       "      <td>...</td>\n",
       "      <td>...</td>\n",
       "      <td>...</td>\n",
       "      <td>...</td>\n",
       "      <td>...</td>\n",
       "      <td>...</td>\n",
       "      <td>...</td>\n",
       "    </tr>\n",
       "    <tr>\n",
       "      <th>2495</th>\n",
       "      <td>2496</td>\n",
       "      <td>Audi</td>\n",
       "      <td>2020</td>\n",
       "      <td>2.4</td>\n",
       "      <td>Petrol</td>\n",
       "      <td>Automatic</td>\n",
       "      <td>22650</td>\n",
       "      <td>Like New</td>\n",
       "      <td>61384.10</td>\n",
       "      <td>Q5</td>\n",
       "    </tr>\n",
       "    <tr>\n",
       "      <th>2496</th>\n",
       "      <td>2497</td>\n",
       "      <td>Audi</td>\n",
       "      <td>2001</td>\n",
       "      <td>5.7</td>\n",
       "      <td>Hybrid</td>\n",
       "      <td>Manual</td>\n",
       "      <td>77701</td>\n",
       "      <td>Like New</td>\n",
       "      <td>24710.35</td>\n",
       "      <td>A3</td>\n",
       "    </tr>\n",
       "    <tr>\n",
       "      <th>2497</th>\n",
       "      <td>2498</td>\n",
       "      <td>Ford</td>\n",
       "      <td>2021</td>\n",
       "      <td>1.1</td>\n",
       "      <td>Hybrid</td>\n",
       "      <td>Manual</td>\n",
       "      <td>272827</td>\n",
       "      <td>Like New</td>\n",
       "      <td>29902.45</td>\n",
       "      <td>Fiesta</td>\n",
       "    </tr>\n",
       "    <tr>\n",
       "      <th>2498</th>\n",
       "      <td>2499</td>\n",
       "      <td>Audi</td>\n",
       "      <td>2002</td>\n",
       "      <td>4.5</td>\n",
       "      <td>Diesel</td>\n",
       "      <td>Manual</td>\n",
       "      <td>229164</td>\n",
       "      <td>Like New</td>\n",
       "      <td>46085.67</td>\n",
       "      <td>Q5</td>\n",
       "    </tr>\n",
       "    <tr>\n",
       "      <th>2499</th>\n",
       "      <td>2500</td>\n",
       "      <td>Toyota</td>\n",
       "      <td>2005</td>\n",
       "      <td>4.6</td>\n",
       "      <td>Diesel</td>\n",
       "      <td>Automatic</td>\n",
       "      <td>80978</td>\n",
       "      <td>Used</td>\n",
       "      <td>16594.14</td>\n",
       "      <td>RAV4</td>\n",
       "    </tr>\n",
       "  </tbody>\n",
       "</table>\n",
       "<p>2500 rows × 10 columns</p>\n",
       "</div>"
      ],
      "text/plain": [
       "      Car ID   Brand  Year  Engine Size Fuel Type Transmission  Mileage  \\\n",
       "0          1   Tesla  2016          2.3    Petrol       Manual   114832   \n",
       "1          2     BMW  2018          4.4  Electric       Manual   143190   \n",
       "2          3    Audi  2013          4.5  Electric       Manual   181601   \n",
       "3          4   Tesla  2011          4.1    Diesel    Automatic    68682   \n",
       "4          5    Ford  2009          2.6    Diesel       Manual   223009   \n",
       "...      ...     ...   ...          ...       ...          ...      ...   \n",
       "2495    2496    Audi  2020          2.4    Petrol    Automatic    22650   \n",
       "2496    2497    Audi  2001          5.7    Hybrid       Manual    77701   \n",
       "2497    2498    Ford  2021          1.1    Hybrid       Manual   272827   \n",
       "2498    2499    Audi  2002          4.5    Diesel       Manual   229164   \n",
       "2499    2500  Toyota  2005          4.6    Diesel    Automatic    80978   \n",
       "\n",
       "     Condition     Price     Model  \n",
       "0          New  26613.92   Model X  \n",
       "1         Used  14679.61  5 Series  \n",
       "2          New  44402.61        A4  \n",
       "3          New  86374.33   Model Y  \n",
       "4     Like New  73577.10   Mustang  \n",
       "...        ...       ...       ...  \n",
       "2495  Like New  61384.10        Q5  \n",
       "2496  Like New  24710.35        A3  \n",
       "2497  Like New  29902.45    Fiesta  \n",
       "2498  Like New  46085.67        Q5  \n",
       "2499      Used  16594.14      RAV4  \n",
       "\n",
       "[2500 rows x 10 columns]"
      ]
     },
     "execution_count": 111,
     "metadata": {},
     "output_type": "execute_result"
    }
   ],
   "source": [
    "df_cle"
   ]
  },
  {
   "cell_type": "code",
   "execution_count": null,
   "id": "1fe4df00",
   "metadata": {},
   "outputs": [],
   "source": []
  }
 ],
 "metadata": {
  "kernelspec": {
   "display_name": "Python 3 (ipykernel)",
   "language": "python",
   "name": "python3"
  },
  "language_info": {
   "codemirror_mode": {
    "name": "ipython",
    "version": 3
   },
   "file_extension": ".py",
   "mimetype": "text/x-python",
   "name": "python",
   "nbconvert_exporter": "python",
   "pygments_lexer": "ipython3",
   "version": "3.11.5"
  }
 },
 "nbformat": 4,
 "nbformat_minor": 5
}
